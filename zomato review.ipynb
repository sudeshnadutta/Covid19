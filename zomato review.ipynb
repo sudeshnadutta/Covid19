{
 "cells": [
  {
   "cell_type": "code",
   "execution_count": null,
   "metadata": {},
   "outputs": [],
   "source": [
    "# For Numerical Python\n",
    "import numpy as np\n",
    "# For Panel Data Analysis\n",
    "import pandas as pd\n",
    "#if you want to create a profile report \n",
    "from pandas_profiling import ProfileReport\n",
    "# For Data Visualization\n",
    "import matplotlib.pyplot as plt\n",
    "%matplotlib inline\n",
    "import seaborn as sns\n",
    "\n",
    "# To Disable Warnings\n",
    "import warnings\n",
    "warnings.filterwarnings(\"ignore\")"
   ]
  },
  {
   "cell_type": "code",
   "execution_count": 2,
   "metadata": {},
   "outputs": [],
   "source": [
    "pd.set_option('display.max_columns', None)\n",
    "#pd.set_option('display.max_colwidth', None)\n",
    "pd.set_option('mode.chained_assignment', None)\n",
    "pd.set_option('display.precision', 4)"
   ]
  },
  {
   "cell_type": "code",
   "execution_count": 3,
   "metadata": {},
   "outputs": [],
   "source": [
    "import re\n",
    "import nltk"
   ]
  },
  {
   "cell_type": "code",
   "execution_count": 4,
   "metadata": {},
   "outputs": [],
   "source": [
    "from wordcloud import WordCloud"
   ]
  },
  {
   "cell_type": "code",
   "execution_count": 5,
   "metadata": {},
   "outputs": [],
   "source": [
    "from textblob import TextBlob\n",
    "from textblob.sentiments import NaiveBayesAnalyzer"
   ]
  },
  {
   "cell_type": "code",
   "execution_count": 6,
   "metadata": {},
   "outputs": [],
   "source": [
    "from sklearn.model_selection import train_test_split\n",
    "from sklearn.pipeline import Pipeline\n",
    "from sklearn.feature_extraction.text import TfidfVectorizer\n",
    "from sklearn.naive_bayes import MultinomialNB\n",
    "from sklearn.metrics import accuracy_score, confusion_matrix, classification_report"
   ]
  },
  {
   "cell_type": "code",
   "execution_count": 7,
   "metadata": {},
   "outputs": [],
   "source": [
    "data = pd.read_csv(\"C:/Users/suddutta/Downloads/zomato.csv\")"
   ]
  },
  {
   "cell_type": "code",
   "execution_count": 8,
   "metadata": {},
   "outputs": [
    {
     "data": {
      "text/html": [
       "<div>\n",
       "<style scoped>\n",
       "    .dataframe tbody tr th:only-of-type {\n",
       "        vertical-align: middle;\n",
       "    }\n",
       "\n",
       "    .dataframe tbody tr th {\n",
       "        vertical-align: top;\n",
       "    }\n",
       "\n",
       "    .dataframe thead th {\n",
       "        text-align: right;\n",
       "    }\n",
       "</style>\n",
       "<table border=\"1\" class=\"dataframe\">\n",
       "  <thead>\n",
       "    <tr style=\"text-align: right;\">\n",
       "      <th></th>\n",
       "      <th>url</th>\n",
       "      <th>address</th>\n",
       "      <th>name</th>\n",
       "      <th>online_order</th>\n",
       "      <th>book_table</th>\n",
       "      <th>rate</th>\n",
       "      <th>votes</th>\n",
       "      <th>phone</th>\n",
       "      <th>location</th>\n",
       "      <th>rest_type</th>\n",
       "      <th>dish_liked</th>\n",
       "      <th>cuisines</th>\n",
       "      <th>approx_cost(for two people)</th>\n",
       "      <th>reviews_list</th>\n",
       "      <th>menu_item</th>\n",
       "      <th>listed_in(type)</th>\n",
       "      <th>listed_in(city)</th>\n",
       "    </tr>\n",
       "  </thead>\n",
       "  <tbody>\n",
       "    <tr>\n",
       "      <th>0</th>\n",
       "      <td>https://www.zomato.com/bangalore/jalsa-banasha...</td>\n",
       "      <td>942, 21st Main Road, 2nd Stage, Banashankari, ...</td>\n",
       "      <td>Jalsa</td>\n",
       "      <td>Yes</td>\n",
       "      <td>Yes</td>\n",
       "      <td>4.1/5</td>\n",
       "      <td>775</td>\n",
       "      <td>080 42297555\\r\\n+91 9743772233</td>\n",
       "      <td>Banashankari</td>\n",
       "      <td>Casual Dining</td>\n",
       "      <td>Pasta, Lunch Buffet, Masala Papad, Paneer Laja...</td>\n",
       "      <td>North Indian, Mughlai, Chinese</td>\n",
       "      <td>800</td>\n",
       "      <td>[('Rated 4.0', 'RATED\\n  A beautiful place to ...</td>\n",
       "      <td>[]</td>\n",
       "      <td>Buffet</td>\n",
       "      <td>Banashankari</td>\n",
       "    </tr>\n",
       "    <tr>\n",
       "      <th>1</th>\n",
       "      <td>https://www.zomato.com/bangalore/spice-elephan...</td>\n",
       "      <td>2nd Floor, 80 Feet Road, Near Big Bazaar, 6th ...</td>\n",
       "      <td>Spice Elephant</td>\n",
       "      <td>Yes</td>\n",
       "      <td>No</td>\n",
       "      <td>4.1/5</td>\n",
       "      <td>787</td>\n",
       "      <td>080 41714161</td>\n",
       "      <td>Banashankari</td>\n",
       "      <td>Casual Dining</td>\n",
       "      <td>Momos, Lunch Buffet, Chocolate Nirvana, Thai G...</td>\n",
       "      <td>Chinese, North Indian, Thai</td>\n",
       "      <td>800</td>\n",
       "      <td>[('Rated 4.0', 'RATED\\n  Had been here for din...</td>\n",
       "      <td>[]</td>\n",
       "      <td>Buffet</td>\n",
       "      <td>Banashankari</td>\n",
       "    </tr>\n",
       "    <tr>\n",
       "      <th>2</th>\n",
       "      <td>https://www.zomato.com/SanchurroBangalore?cont...</td>\n",
       "      <td>1112, Next to KIMS Medical College, 17th Cross...</td>\n",
       "      <td>San Churro Cafe</td>\n",
       "      <td>Yes</td>\n",
       "      <td>No</td>\n",
       "      <td>3.8/5</td>\n",
       "      <td>918</td>\n",
       "      <td>+91 9663487993</td>\n",
       "      <td>Banashankari</td>\n",
       "      <td>Cafe, Casual Dining</td>\n",
       "      <td>Churros, Cannelloni, Minestrone Soup, Hot Choc...</td>\n",
       "      <td>Cafe, Mexican, Italian</td>\n",
       "      <td>800</td>\n",
       "      <td>[('Rated 3.0', \"RATED\\n  Ambience is not that ...</td>\n",
       "      <td>[]</td>\n",
       "      <td>Buffet</td>\n",
       "      <td>Banashankari</td>\n",
       "    </tr>\n",
       "    <tr>\n",
       "      <th>3</th>\n",
       "      <td>https://www.zomato.com/bangalore/addhuri-udupi...</td>\n",
       "      <td>1st Floor, Annakuteera, 3rd Stage, Banashankar...</td>\n",
       "      <td>Addhuri Udupi Bhojana</td>\n",
       "      <td>No</td>\n",
       "      <td>No</td>\n",
       "      <td>3.7/5</td>\n",
       "      <td>88</td>\n",
       "      <td>+91 9620009302</td>\n",
       "      <td>Banashankari</td>\n",
       "      <td>Quick Bites</td>\n",
       "      <td>Masala Dosa</td>\n",
       "      <td>South Indian, North Indian</td>\n",
       "      <td>300</td>\n",
       "      <td>[('Rated 4.0', \"RATED\\n  Great food and proper...</td>\n",
       "      <td>[]</td>\n",
       "      <td>Buffet</td>\n",
       "      <td>Banashankari</td>\n",
       "    </tr>\n",
       "    <tr>\n",
       "      <th>4</th>\n",
       "      <td>https://www.zomato.com/bangalore/grand-village...</td>\n",
       "      <td>10, 3rd Floor, Lakshmi Associates, Gandhi Baza...</td>\n",
       "      <td>Grand Village</td>\n",
       "      <td>No</td>\n",
       "      <td>No</td>\n",
       "      <td>3.8/5</td>\n",
       "      <td>166</td>\n",
       "      <td>+91 8026612447\\r\\n+91 9901210005</td>\n",
       "      <td>Basavanagudi</td>\n",
       "      <td>Casual Dining</td>\n",
       "      <td>Panipuri, Gol Gappe</td>\n",
       "      <td>North Indian, Rajasthani</td>\n",
       "      <td>600</td>\n",
       "      <td>[('Rated 4.0', 'RATED\\n  Very good restaurant ...</td>\n",
       "      <td>[]</td>\n",
       "      <td>Buffet</td>\n",
       "      <td>Banashankari</td>\n",
       "    </tr>\n",
       "  </tbody>\n",
       "</table>\n",
       "</div>"
      ],
      "text/plain": [
       "                                                 url  \\\n",
       "0  https://www.zomato.com/bangalore/jalsa-banasha...   \n",
       "1  https://www.zomato.com/bangalore/spice-elephan...   \n",
       "2  https://www.zomato.com/SanchurroBangalore?cont...   \n",
       "3  https://www.zomato.com/bangalore/addhuri-udupi...   \n",
       "4  https://www.zomato.com/bangalore/grand-village...   \n",
       "\n",
       "                                             address                   name  \\\n",
       "0  942, 21st Main Road, 2nd Stage, Banashankari, ...                  Jalsa   \n",
       "1  2nd Floor, 80 Feet Road, Near Big Bazaar, 6th ...         Spice Elephant   \n",
       "2  1112, Next to KIMS Medical College, 17th Cross...        San Churro Cafe   \n",
       "3  1st Floor, Annakuteera, 3rd Stage, Banashankar...  Addhuri Udupi Bhojana   \n",
       "4  10, 3rd Floor, Lakshmi Associates, Gandhi Baza...          Grand Village   \n",
       "\n",
       "  online_order book_table   rate  votes                             phone  \\\n",
       "0          Yes        Yes  4.1/5    775    080 42297555\\r\\n+91 9743772233   \n",
       "1          Yes         No  4.1/5    787                      080 41714161   \n",
       "2          Yes         No  3.8/5    918                    +91 9663487993   \n",
       "3           No         No  3.7/5     88                    +91 9620009302   \n",
       "4           No         No  3.8/5    166  +91 8026612447\\r\\n+91 9901210005   \n",
       "\n",
       "       location            rest_type  \\\n",
       "0  Banashankari        Casual Dining   \n",
       "1  Banashankari        Casual Dining   \n",
       "2  Banashankari  Cafe, Casual Dining   \n",
       "3  Banashankari          Quick Bites   \n",
       "4  Basavanagudi        Casual Dining   \n",
       "\n",
       "                                          dish_liked  \\\n",
       "0  Pasta, Lunch Buffet, Masala Papad, Paneer Laja...   \n",
       "1  Momos, Lunch Buffet, Chocolate Nirvana, Thai G...   \n",
       "2  Churros, Cannelloni, Minestrone Soup, Hot Choc...   \n",
       "3                                        Masala Dosa   \n",
       "4                                Panipuri, Gol Gappe   \n",
       "\n",
       "                         cuisines approx_cost(for two people)  \\\n",
       "0  North Indian, Mughlai, Chinese                         800   \n",
       "1     Chinese, North Indian, Thai                         800   \n",
       "2          Cafe, Mexican, Italian                         800   \n",
       "3      South Indian, North Indian                         300   \n",
       "4        North Indian, Rajasthani                         600   \n",
       "\n",
       "                                        reviews_list menu_item  \\\n",
       "0  [('Rated 4.0', 'RATED\\n  A beautiful place to ...        []   \n",
       "1  [('Rated 4.0', 'RATED\\n  Had been here for din...        []   \n",
       "2  [('Rated 3.0', \"RATED\\n  Ambience is not that ...        []   \n",
       "3  [('Rated 4.0', \"RATED\\n  Great food and proper...        []   \n",
       "4  [('Rated 4.0', 'RATED\\n  Very good restaurant ...        []   \n",
       "\n",
       "  listed_in(type) listed_in(city)  \n",
       "0          Buffet    Banashankari  \n",
       "1          Buffet    Banashankari  \n",
       "2          Buffet    Banashankari  \n",
       "3          Buffet    Banashankari  \n",
       "4          Buffet    Banashankari  "
      ]
     },
     "execution_count": 8,
     "metadata": {},
     "output_type": "execute_result"
    }
   ],
   "source": [
    "data.head()"
   ]
  },
  {
   "cell_type": "code",
   "execution_count": 11,
   "metadata": {
    "scrolled": true
   },
   "outputs": [
    {
     "name": "stdout",
     "output_type": "stream",
     "text": [
      "<class 'pandas.core.frame.DataFrame'>\n",
      "RangeIndex: 51717 entries, 0 to 51716\n",
      "Data columns (total 17 columns):\n",
      " #   Column                       Non-Null Count  Dtype \n",
      "---  ------                       --------------  ----- \n",
      " 0   url                          51717 non-null  object\n",
      " 1   address                      51717 non-null  object\n",
      " 2   name                         51717 non-null  object\n",
      " 3   online_order                 51717 non-null  object\n",
      " 4   book_table                   51717 non-null  object\n",
      " 5   rate                         43942 non-null  object\n",
      " 6   votes                        51717 non-null  int64 \n",
      " 7   phone                        50509 non-null  object\n",
      " 8   location                     51696 non-null  object\n",
      " 9   rest_type                    51490 non-null  object\n",
      " 10  dish_liked                   23639 non-null  object\n",
      " 11  cuisines                     51672 non-null  object\n",
      " 12  approx_cost(for two people)  51371 non-null  object\n",
      " 13  reviews_list                 51717 non-null  object\n",
      " 14  menu_item                    51717 non-null  object\n",
      " 15  listed_in(type)              51717 non-null  object\n",
      " 16  listed_in(city)              51717 non-null  object\n",
      "dtypes: int64(1), object(16)\n",
      "memory usage: 6.7+ MB\n"
     ]
    }
   ],
   "source": [
    "data.info()"
   ]
  },
  {
   "cell_type": "code",
   "execution_count": 42,
   "metadata": {},
   "outputs": [],
   "source": [
    "#rate can't be object. it should be float\n",
    "#cost should also be integer"
   ]
  },
  {
   "cell_type": "code",
   "execution_count": 12,
   "metadata": {},
   "outputs": [
    {
     "data": {
      "text/html": [
       "<div>\n",
       "<style scoped>\n",
       "    .dataframe tbody tr th:only-of-type {\n",
       "        vertical-align: middle;\n",
       "    }\n",
       "\n",
       "    .dataframe tbody tr th {\n",
       "        vertical-align: top;\n",
       "    }\n",
       "\n",
       "    .dataframe thead th {\n",
       "        text-align: right;\n",
       "    }\n",
       "</style>\n",
       "<table border=\"1\" class=\"dataframe\">\n",
       "  <thead>\n",
       "    <tr style=\"text-align: right;\">\n",
       "      <th></th>\n",
       "      <th>url</th>\n",
       "      <th>address</th>\n",
       "      <th>name</th>\n",
       "      <th>online_order</th>\n",
       "      <th>book_table</th>\n",
       "      <th>rate</th>\n",
       "      <th>votes</th>\n",
       "      <th>phone</th>\n",
       "      <th>location</th>\n",
       "      <th>rest_type</th>\n",
       "      <th>dish_liked</th>\n",
       "      <th>cuisines</th>\n",
       "      <th>approx_cost(for two people)</th>\n",
       "      <th>reviews_list</th>\n",
       "      <th>menu_item</th>\n",
       "      <th>listed_in(type)</th>\n",
       "      <th>listed_in(city)</th>\n",
       "    </tr>\n",
       "  </thead>\n",
       "  <tbody>\n",
       "    <tr>\n",
       "      <th>count</th>\n",
       "      <td>51717</td>\n",
       "      <td>51717</td>\n",
       "      <td>51717</td>\n",
       "      <td>51717</td>\n",
       "      <td>51717</td>\n",
       "      <td>43942</td>\n",
       "      <td>51717.0000</td>\n",
       "      <td>50509</td>\n",
       "      <td>51696</td>\n",
       "      <td>51490</td>\n",
       "      <td>23639</td>\n",
       "      <td>51672</td>\n",
       "      <td>51371</td>\n",
       "      <td>51717</td>\n",
       "      <td>51717</td>\n",
       "      <td>51717</td>\n",
       "      <td>51717</td>\n",
       "    </tr>\n",
       "    <tr>\n",
       "      <th>unique</th>\n",
       "      <td>51717</td>\n",
       "      <td>11495</td>\n",
       "      <td>8792</td>\n",
       "      <td>2</td>\n",
       "      <td>2</td>\n",
       "      <td>64</td>\n",
       "      <td>NaN</td>\n",
       "      <td>14926</td>\n",
       "      <td>93</td>\n",
       "      <td>93</td>\n",
       "      <td>5271</td>\n",
       "      <td>2723</td>\n",
       "      <td>70</td>\n",
       "      <td>22513</td>\n",
       "      <td>9098</td>\n",
       "      <td>7</td>\n",
       "      <td>30</td>\n",
       "    </tr>\n",
       "    <tr>\n",
       "      <th>top</th>\n",
       "      <td>https://www.zomato.com/bangalore/halli-oota-st...</td>\n",
       "      <td>Delivery Only</td>\n",
       "      <td>Cafe Coffee Day</td>\n",
       "      <td>Yes</td>\n",
       "      <td>No</td>\n",
       "      <td>NEW</td>\n",
       "      <td>NaN</td>\n",
       "      <td>080 43334321</td>\n",
       "      <td>BTM</td>\n",
       "      <td>Quick Bites</td>\n",
       "      <td>Biryani</td>\n",
       "      <td>North Indian</td>\n",
       "      <td>300</td>\n",
       "      <td>[]</td>\n",
       "      <td>[]</td>\n",
       "      <td>Delivery</td>\n",
       "      <td>BTM</td>\n",
       "    </tr>\n",
       "    <tr>\n",
       "      <th>freq</th>\n",
       "      <td>1</td>\n",
       "      <td>128</td>\n",
       "      <td>96</td>\n",
       "      <td>30444</td>\n",
       "      <td>45268</td>\n",
       "      <td>2208</td>\n",
       "      <td>NaN</td>\n",
       "      <td>216</td>\n",
       "      <td>5124</td>\n",
       "      <td>19132</td>\n",
       "      <td>182</td>\n",
       "      <td>2913</td>\n",
       "      <td>7576</td>\n",
       "      <td>7595</td>\n",
       "      <td>39617</td>\n",
       "      <td>25942</td>\n",
       "      <td>3279</td>\n",
       "    </tr>\n",
       "    <tr>\n",
       "      <th>mean</th>\n",
       "      <td>NaN</td>\n",
       "      <td>NaN</td>\n",
       "      <td>NaN</td>\n",
       "      <td>NaN</td>\n",
       "      <td>NaN</td>\n",
       "      <td>NaN</td>\n",
       "      <td>283.6975</td>\n",
       "      <td>NaN</td>\n",
       "      <td>NaN</td>\n",
       "      <td>NaN</td>\n",
       "      <td>NaN</td>\n",
       "      <td>NaN</td>\n",
       "      <td>NaN</td>\n",
       "      <td>NaN</td>\n",
       "      <td>NaN</td>\n",
       "      <td>NaN</td>\n",
       "      <td>NaN</td>\n",
       "    </tr>\n",
       "    <tr>\n",
       "      <th>std</th>\n",
       "      <td>NaN</td>\n",
       "      <td>NaN</td>\n",
       "      <td>NaN</td>\n",
       "      <td>NaN</td>\n",
       "      <td>NaN</td>\n",
       "      <td>NaN</td>\n",
       "      <td>803.8389</td>\n",
       "      <td>NaN</td>\n",
       "      <td>NaN</td>\n",
       "      <td>NaN</td>\n",
       "      <td>NaN</td>\n",
       "      <td>NaN</td>\n",
       "      <td>NaN</td>\n",
       "      <td>NaN</td>\n",
       "      <td>NaN</td>\n",
       "      <td>NaN</td>\n",
       "      <td>NaN</td>\n",
       "    </tr>\n",
       "    <tr>\n",
       "      <th>min</th>\n",
       "      <td>NaN</td>\n",
       "      <td>NaN</td>\n",
       "      <td>NaN</td>\n",
       "      <td>NaN</td>\n",
       "      <td>NaN</td>\n",
       "      <td>NaN</td>\n",
       "      <td>0.0000</td>\n",
       "      <td>NaN</td>\n",
       "      <td>NaN</td>\n",
       "      <td>NaN</td>\n",
       "      <td>NaN</td>\n",
       "      <td>NaN</td>\n",
       "      <td>NaN</td>\n",
       "      <td>NaN</td>\n",
       "      <td>NaN</td>\n",
       "      <td>NaN</td>\n",
       "      <td>NaN</td>\n",
       "    </tr>\n",
       "    <tr>\n",
       "      <th>25%</th>\n",
       "      <td>NaN</td>\n",
       "      <td>NaN</td>\n",
       "      <td>NaN</td>\n",
       "      <td>NaN</td>\n",
       "      <td>NaN</td>\n",
       "      <td>NaN</td>\n",
       "      <td>7.0000</td>\n",
       "      <td>NaN</td>\n",
       "      <td>NaN</td>\n",
       "      <td>NaN</td>\n",
       "      <td>NaN</td>\n",
       "      <td>NaN</td>\n",
       "      <td>NaN</td>\n",
       "      <td>NaN</td>\n",
       "      <td>NaN</td>\n",
       "      <td>NaN</td>\n",
       "      <td>NaN</td>\n",
       "    </tr>\n",
       "    <tr>\n",
       "      <th>50%</th>\n",
       "      <td>NaN</td>\n",
       "      <td>NaN</td>\n",
       "      <td>NaN</td>\n",
       "      <td>NaN</td>\n",
       "      <td>NaN</td>\n",
       "      <td>NaN</td>\n",
       "      <td>41.0000</td>\n",
       "      <td>NaN</td>\n",
       "      <td>NaN</td>\n",
       "      <td>NaN</td>\n",
       "      <td>NaN</td>\n",
       "      <td>NaN</td>\n",
       "      <td>NaN</td>\n",
       "      <td>NaN</td>\n",
       "      <td>NaN</td>\n",
       "      <td>NaN</td>\n",
       "      <td>NaN</td>\n",
       "    </tr>\n",
       "    <tr>\n",
       "      <th>75%</th>\n",
       "      <td>NaN</td>\n",
       "      <td>NaN</td>\n",
       "      <td>NaN</td>\n",
       "      <td>NaN</td>\n",
       "      <td>NaN</td>\n",
       "      <td>NaN</td>\n",
       "      <td>198.0000</td>\n",
       "      <td>NaN</td>\n",
       "      <td>NaN</td>\n",
       "      <td>NaN</td>\n",
       "      <td>NaN</td>\n",
       "      <td>NaN</td>\n",
       "      <td>NaN</td>\n",
       "      <td>NaN</td>\n",
       "      <td>NaN</td>\n",
       "      <td>NaN</td>\n",
       "      <td>NaN</td>\n",
       "    </tr>\n",
       "    <tr>\n",
       "      <th>max</th>\n",
       "      <td>NaN</td>\n",
       "      <td>NaN</td>\n",
       "      <td>NaN</td>\n",
       "      <td>NaN</td>\n",
       "      <td>NaN</td>\n",
       "      <td>NaN</td>\n",
       "      <td>16832.0000</td>\n",
       "      <td>NaN</td>\n",
       "      <td>NaN</td>\n",
       "      <td>NaN</td>\n",
       "      <td>NaN</td>\n",
       "      <td>NaN</td>\n",
       "      <td>NaN</td>\n",
       "      <td>NaN</td>\n",
       "      <td>NaN</td>\n",
       "      <td>NaN</td>\n",
       "      <td>NaN</td>\n",
       "    </tr>\n",
       "  </tbody>\n",
       "</table>\n",
       "</div>"
      ],
      "text/plain": [
       "                                                      url        address  \\\n",
       "count                                               51717          51717   \n",
       "unique                                              51717          11495   \n",
       "top     https://www.zomato.com/bangalore/halli-oota-st...  Delivery Only   \n",
       "freq                                                    1            128   \n",
       "mean                                                  NaN            NaN   \n",
       "std                                                   NaN            NaN   \n",
       "min                                                   NaN            NaN   \n",
       "25%                                                   NaN            NaN   \n",
       "50%                                                   NaN            NaN   \n",
       "75%                                                   NaN            NaN   \n",
       "max                                                   NaN            NaN   \n",
       "\n",
       "                   name online_order book_table   rate       votes  \\\n",
       "count             51717        51717      51717  43942  51717.0000   \n",
       "unique             8792            2          2     64         NaN   \n",
       "top     Cafe Coffee Day          Yes         No    NEW         NaN   \n",
       "freq                 96        30444      45268   2208         NaN   \n",
       "mean                NaN          NaN        NaN    NaN    283.6975   \n",
       "std                 NaN          NaN        NaN    NaN    803.8389   \n",
       "min                 NaN          NaN        NaN    NaN      0.0000   \n",
       "25%                 NaN          NaN        NaN    NaN      7.0000   \n",
       "50%                 NaN          NaN        NaN    NaN     41.0000   \n",
       "75%                 NaN          NaN        NaN    NaN    198.0000   \n",
       "max                 NaN          NaN        NaN    NaN  16832.0000   \n",
       "\n",
       "               phone location    rest_type dish_liked      cuisines  \\\n",
       "count          50509    51696        51490      23639         51672   \n",
       "unique         14926       93           93       5271          2723   \n",
       "top     080 43334321      BTM  Quick Bites    Biryani  North Indian   \n",
       "freq             216     5124        19132        182          2913   \n",
       "mean             NaN      NaN          NaN        NaN           NaN   \n",
       "std              NaN      NaN          NaN        NaN           NaN   \n",
       "min              NaN      NaN          NaN        NaN           NaN   \n",
       "25%              NaN      NaN          NaN        NaN           NaN   \n",
       "50%              NaN      NaN          NaN        NaN           NaN   \n",
       "75%              NaN      NaN          NaN        NaN           NaN   \n",
       "max              NaN      NaN          NaN        NaN           NaN   \n",
       "\n",
       "       approx_cost(for two people) reviews_list menu_item listed_in(type)  \\\n",
       "count                        51371        51717     51717           51717   \n",
       "unique                          70        22513      9098               7   \n",
       "top                            300           []        []        Delivery   \n",
       "freq                          7576         7595     39617           25942   \n",
       "mean                           NaN          NaN       NaN             NaN   \n",
       "std                            NaN          NaN       NaN             NaN   \n",
       "min                            NaN          NaN       NaN             NaN   \n",
       "25%                            NaN          NaN       NaN             NaN   \n",
       "50%                            NaN          NaN       NaN             NaN   \n",
       "75%                            NaN          NaN       NaN             NaN   \n",
       "max                            NaN          NaN       NaN             NaN   \n",
       "\n",
       "       listed_in(city)  \n",
       "count            51717  \n",
       "unique              30  \n",
       "top                BTM  \n",
       "freq              3279  \n",
       "mean               NaN  \n",
       "std                NaN  \n",
       "min                NaN  \n",
       "25%                NaN  \n",
       "50%                NaN  \n",
       "75%                NaN  \n",
       "max                NaN  "
      ]
     },
     "execution_count": 12,
     "metadata": {},
     "output_type": "execute_result"
    }
   ],
   "source": [
    "data.describe(include = 'all')"
   ]
  },
  {
   "cell_type": "code",
   "execution_count": null,
   "metadata": {},
   "outputs": [],
   "source": [
    "#cafe coffee day most number of times\n",
    "# rate has missing values\n",
    "#phone number has missing values\n",
    "#missing values in location, rest_type, dish liked, cuisines, cost"
   ]
  },
  {
   "cell_type": "code",
   "execution_count": 35,
   "metadata": {},
   "outputs": [],
   "source": [
    "null_dict = {}\n",
    "null_percent = {}\n",
    "for i in data.columns.values:\n",
    "    null_dict[i] = data[i].isnull().sum()\n",
    "    null_percent[i] = round(data[i].isnull().sum()/len(data),2)*100"
   ]
  },
  {
   "cell_type": "code",
   "execution_count": 36,
   "metadata": {},
   "outputs": [
    {
     "data": {
      "text/html": [
       "<div>\n",
       "<style scoped>\n",
       "    .dataframe tbody tr th:only-of-type {\n",
       "        vertical-align: middle;\n",
       "    }\n",
       "\n",
       "    .dataframe tbody tr th {\n",
       "        vertical-align: top;\n",
       "    }\n",
       "\n",
       "    .dataframe thead th {\n",
       "        text-align: right;\n",
       "    }\n",
       "</style>\n",
       "<table border=\"1\" class=\"dataframe\">\n",
       "  <thead>\n",
       "    <tr style=\"text-align: right;\">\n",
       "      <th></th>\n",
       "      <th>url</th>\n",
       "      <th>address</th>\n",
       "      <th>name</th>\n",
       "      <th>online_order</th>\n",
       "      <th>book_table</th>\n",
       "      <th>rate</th>\n",
       "      <th>votes</th>\n",
       "      <th>phone</th>\n",
       "      <th>location</th>\n",
       "      <th>rest_type</th>\n",
       "      <th>dish_liked</th>\n",
       "      <th>cuisines</th>\n",
       "      <th>approx_cost(for two people)</th>\n",
       "      <th>reviews_list</th>\n",
       "      <th>menu_item</th>\n",
       "      <th>listed_in(type)</th>\n",
       "      <th>listed_in(city)</th>\n",
       "    </tr>\n",
       "  </thead>\n",
       "  <tbody>\n",
       "    <tr>\n",
       "      <th>Missing Values</th>\n",
       "      <td>0.0</td>\n",
       "      <td>0.0</td>\n",
       "      <td>0.0</td>\n",
       "      <td>0.0</td>\n",
       "      <td>0.0</td>\n",
       "      <td>7775.0</td>\n",
       "      <td>0.0</td>\n",
       "      <td>1208.0</td>\n",
       "      <td>21.0</td>\n",
       "      <td>227.0</td>\n",
       "      <td>28078.0</td>\n",
       "      <td>45.0</td>\n",
       "      <td>346.0</td>\n",
       "      <td>0.0</td>\n",
       "      <td>0.0</td>\n",
       "      <td>0.0</td>\n",
       "      <td>0.0</td>\n",
       "    </tr>\n",
       "    <tr>\n",
       "      <th>Missing Percentage</th>\n",
       "      <td>0.0</td>\n",
       "      <td>0.0</td>\n",
       "      <td>0.0</td>\n",
       "      <td>0.0</td>\n",
       "      <td>0.0</td>\n",
       "      <td>15.0</td>\n",
       "      <td>0.0</td>\n",
       "      <td>2.0</td>\n",
       "      <td>0.0</td>\n",
       "      <td>0.0</td>\n",
       "      <td>54.0</td>\n",
       "      <td>0.0</td>\n",
       "      <td>1.0</td>\n",
       "      <td>0.0</td>\n",
       "      <td>0.0</td>\n",
       "      <td>0.0</td>\n",
       "      <td>0.0</td>\n",
       "    </tr>\n",
       "  </tbody>\n",
       "</table>\n",
       "</div>"
      ],
      "text/plain": [
       "                    url  address  name  online_order  book_table    rate  \\\n",
       "Missing Values      0.0      0.0   0.0           0.0         0.0  7775.0   \n",
       "Missing Percentage  0.0      0.0   0.0           0.0         0.0    15.0   \n",
       "\n",
       "                    votes   phone  location  rest_type  dish_liked  cuisines  \\\n",
       "Missing Values        0.0  1208.0      21.0      227.0     28078.0      45.0   \n",
       "Missing Percentage    0.0     2.0       0.0        0.0        54.0       0.0   \n",
       "\n",
       "                    approx_cost(for two people)  reviews_list  menu_item  \\\n",
       "Missing Values                            346.0           0.0        0.0   \n",
       "Missing Percentage                          1.0           0.0        0.0   \n",
       "\n",
       "                    listed_in(type)  listed_in(city)  \n",
       "Missing Values                  0.0              0.0  \n",
       "Missing Percentage              0.0              0.0  "
      ]
     },
     "execution_count": 36,
     "metadata": {},
     "output_type": "execute_result"
    }
   ],
   "source": [
    "null_df = (pd.DataFrame({'Missing Values':null_dict, 'Missing Percentage':null_percent})).transpose()\n",
    "null_df"
   ]
  },
  {
   "cell_type": "code",
   "execution_count": 37,
   "metadata": {},
   "outputs": [],
   "source": [
    "#for sentiment analysis we need the reviews and ratings. rest columns are not important for the sentiment part though \n",
    "#few columns are necessary for data exploration"
   ]
  },
  {
   "cell_type": "code",
   "execution_count": 38,
   "metadata": {},
   "outputs": [],
   "source": [
    "#url, address, phone number, location are redundant and hence we will drop them at the beginnig itself"
   ]
  },
  {
   "cell_type": "code",
   "execution_count": 39,
   "metadata": {},
   "outputs": [],
   "source": [
    "data.drop(['url', 'address', 'phone', 'location'], axis = 1, inplace = True)"
   ]
  },
  {
   "cell_type": "code",
   "execution_count": 40,
   "metadata": {},
   "outputs": [
    {
     "data": {
      "text/plain": [
       "(51717, 13)"
      ]
     },
     "execution_count": 40,
     "metadata": {},
     "output_type": "execute_result"
    }
   ],
   "source": [
    "data.shape"
   ]
  },
  {
   "cell_type": "code",
   "execution_count": 43,
   "metadata": {},
   "outputs": [],
   "source": [
    "#correcting rate and cost columns by changing their datatype\n",
    "#first let's find out the values they posess to understand the correction we need to do"
   ]
  },
  {
   "cell_type": "code",
   "execution_count": 60,
   "metadata": {
    "scrolled": true
   },
   "outputs": [
    {
     "data": {
      "text/html": [
       "<div>\n",
       "<style scoped>\n",
       "    .dataframe tbody tr th:only-of-type {\n",
       "        vertical-align: middle;\n",
       "    }\n",
       "\n",
       "    .dataframe tbody tr th {\n",
       "        vertical-align: top;\n",
       "    }\n",
       "\n",
       "    .dataframe thead th {\n",
       "        text-align: right;\n",
       "    }\n",
       "</style>\n",
       "<table border=\"1\" class=\"dataframe\">\n",
       "  <thead>\n",
       "    <tr style=\"text-align: right;\">\n",
       "      <th></th>\n",
       "      <th>NEW</th>\n",
       "      <th>3.9/5</th>\n",
       "      <th>3.8/5</th>\n",
       "      <th>3.7/5</th>\n",
       "      <th>3.9 /5</th>\n",
       "      <th>3.8 /5</th>\n",
       "      <th>3.7 /5</th>\n",
       "      <th>3.6/5</th>\n",
       "      <th>4.0/5</th>\n",
       "      <th>4.0 /5</th>\n",
       "      <th>3.6 /5</th>\n",
       "      <th>4.1/5</th>\n",
       "      <th>4.1 /5</th>\n",
       "      <th>3.5/5</th>\n",
       "      <th>3.5 /5</th>\n",
       "      <th>3.4/5</th>\n",
       "      <th>3.4 /5</th>\n",
       "      <th>3.3/5</th>\n",
       "      <th>4.2 /5</th>\n",
       "      <th>3.3 /5</th>\n",
       "      <th>4.2/5</th>\n",
       "      <th>3.2/5</th>\n",
       "      <th>4.3 /5</th>\n",
       "      <th>3.2 /5</th>\n",
       "      <th>3.1/5</th>\n",
       "      <th>4.3/5</th>\n",
       "      <th>3.1 /5</th>\n",
       "      <th>4.4 /5</th>\n",
       "      <th>3.0/5</th>\n",
       "      <th>4.4/5</th>\n",
       "      <th>3.0 /5</th>\n",
       "      <th>2.9/5</th>\n",
       "      <th>4.5 /5</th>\n",
       "      <th>2.9 /5</th>\n",
       "      <th>2.8/5</th>\n",
       "      <th>2.8 /5</th>\n",
       "      <th>4.5/5</th>\n",
       "      <th>4.6 /5</th>\n",
       "      <th>2.7/5</th>\n",
       "      <th>2.6/5</th>\n",
       "      <th>2.7 /5</th>\n",
       "      <th>4.6/5</th>\n",
       "      <th>2.6 /5</th>\n",
       "      <th>4.7 /5</th>\n",
       "      <th>4.7/5</th>\n",
       "      <th>-</th>\n",
       "      <th>2.5 /5</th>\n",
       "      <th>2.5/5</th>\n",
       "      <th>4.8 /5</th>\n",
       "      <th>2.4/5</th>\n",
       "      <th>4.9 /5</th>\n",
       "      <th>2.4 /5</th>\n",
       "      <th>2.3/5</th>\n",
       "      <th>4.9/5</th>\n",
       "      <th>4.8/5</th>\n",
       "      <th>2.3 /5</th>\n",
       "      <th>2.2/5</th>\n",
       "      <th>2.1 /5</th>\n",
       "      <th>2.1/5</th>\n",
       "      <th>2.0 /5</th>\n",
       "      <th>2.2 /5</th>\n",
       "      <th>2.0/5</th>\n",
       "      <th>1.8 /5</th>\n",
       "      <th>1.8/5</th>\n",
       "    </tr>\n",
       "  </thead>\n",
       "  <tbody>\n",
       "    <tr>\n",
       "      <th>rate</th>\n",
       "      <td>2208</td>\n",
       "      <td>2098</td>\n",
       "      <td>2022</td>\n",
       "      <td>2011</td>\n",
       "      <td>1874</td>\n",
       "      <td>1851</td>\n",
       "      <td>1810</td>\n",
       "      <td>1773</td>\n",
       "      <td>1609</td>\n",
       "      <td>1574</td>\n",
       "      <td>1543</td>\n",
       "      <td>1474</td>\n",
       "      <td>1474</td>\n",
       "      <td>1431</td>\n",
       "      <td>1353</td>\n",
       "      <td>1259</td>\n",
       "      <td>1217</td>\n",
       "      <td>1168</td>\n",
       "      <td>1165</td>\n",
       "      <td>1142</td>\n",
       "      <td>1019</td>\n",
       "      <td>1006</td>\n",
       "      <td>917</td>\n",
       "      <td>867</td>\n",
       "      <td>862</td>\n",
       "      <td>776</td>\n",
       "      <td>699</td>\n",
       "      <td>628</td>\n",
       "      <td>558</td>\n",
       "      <td>519</td>\n",
       "      <td>465</td>\n",
       "      <td>427</td>\n",
       "      <td>409</td>\n",
       "      <td>375</td>\n",
       "      <td>313</td>\n",
       "      <td>287</td>\n",
       "      <td>247</td>\n",
       "      <td>175</td>\n",
       "      <td>170</td>\n",
       "      <td>143</td>\n",
       "      <td>137</td>\n",
       "      <td>125</td>\n",
       "      <td>117</td>\n",
       "      <td>86</td>\n",
       "      <td>81</td>\n",
       "      <td>69</td>\n",
       "      <td>56</td>\n",
       "      <td>45</td>\n",
       "      <td>43</td>\n",
       "      <td>40</td>\n",
       "      <td>30</td>\n",
       "      <td>30</td>\n",
       "      <td>28</td>\n",
       "      <td>25</td>\n",
       "      <td>23</td>\n",
       "      <td>23</td>\n",
       "      <td>19</td>\n",
       "      <td>13</td>\n",
       "      <td>11</td>\n",
       "      <td>7</td>\n",
       "      <td>7</td>\n",
       "      <td>4</td>\n",
       "      <td>3</td>\n",
       "      <td>2</td>\n",
       "    </tr>\n",
       "  </tbody>\n",
       "</table>\n",
       "</div>"
      ],
      "text/plain": [
       "       NEW  3.9/5  3.8/5  3.7/5  3.9 /5  3.8 /5  3.7 /5  3.6/5  4.0/5  4.0 /5  \\\n",
       "rate  2208   2098   2022   2011    1874    1851    1810   1773   1609    1574   \n",
       "\n",
       "      3.6 /5  4.1/5  4.1 /5  3.5/5  3.5 /5  3.4/5  3.4 /5  3.3/5  4.2 /5  \\\n",
       "rate    1543   1474    1474   1431    1353   1259    1217   1168    1165   \n",
       "\n",
       "      3.3 /5  4.2/5  3.2/5  4.3 /5  3.2 /5  3.1/5  4.3/5  3.1 /5  4.4 /5  \\\n",
       "rate    1142   1019   1006     917     867    862    776     699     628   \n",
       "\n",
       "      3.0/5  4.4/5  3.0 /5  2.9/5  4.5 /5  2.9 /5  2.8/5  2.8 /5  4.5/5  \\\n",
       "rate    558    519     465    427     409     375    313     287    247   \n",
       "\n",
       "      4.6 /5  2.7/5  2.6/5  2.7 /5  4.6/5  2.6 /5  4.7 /5  4.7/5   -  2.5 /5  \\\n",
       "rate     175    170    143     137    125     117      86     81  69      56   \n",
       "\n",
       "      2.5/5  4.8 /5  2.4/5  4.9 /5  2.4 /5  2.3/5  4.9/5  4.8/5  2.3 /5  \\\n",
       "rate     45      43     40      30      30     28     25     23      23   \n",
       "\n",
       "      2.2/5  2.1 /5  2.1/5  2.0 /5  2.2 /5  2.0/5  1.8 /5  1.8/5  \n",
       "rate     19      13     11       7       7      4       3      2  "
      ]
     },
     "execution_count": 60,
     "metadata": {},
     "output_type": "execute_result"
    }
   ],
   "source": [
    "pd.DataFrame(data['rate'].value_counts()).transpose()\n",
    "#so basically it has ratings given out of 5. we can simply remove '/5' part to get the actual ratings since all are\n",
    "#out of 5"
   ]
  },
  {
   "cell_type": "code",
   "execution_count": null,
   "metadata": {},
   "outputs": [],
   "source": [
    "#so rate column has ratings as float as well as NEW which means those restaurants have no ratings so far as they\n",
    "#have opened recently\n",
    "#also there are 15% missing values in the rate column"
   ]
  },
  {
   "cell_type": "code",
   "execution_count": 73,
   "metadata": {},
   "outputs": [
    {
     "data": {
      "text/plain": [
       "72       [('Rated 4.0', 'RATED\\n  cost for chicken roll...\n",
       "75                                                      []\n",
       "110      [('Rated 1.0', 'RATED\\n  I have been here many...\n",
       "130                                                     []\n",
       "131                                                     []\n",
       "                               ...                        \n",
       "51585                                                   []\n",
       "51586    [('Rated 5.0', 'RATED\\n  This is an awesome pl...\n",
       "51603    [('Rated 3.0', 'RATED\\n  A highly expensive pl...\n",
       "51604    [('Rated 3.0', 'RATED\\n  Biriyani had ordered ...\n",
       "51605                                                   []\n",
       "Name: reviews_list, Length: 2208, dtype: object"
      ]
     },
     "execution_count": 73,
     "metadata": {},
     "output_type": "execute_result"
    }
   ],
   "source": [
    "data[data.rate == 'NEW']['reviews_list'] #so basically 721 new restaurants with few restaurants with multiple\n",
    "#outlets"
   ]
  },
  {
   "cell_type": "code",
   "execution_count": 70,
   "metadata": {
    "scrolled": false
   },
   "outputs": [
    {
     "data": {
      "text/plain": [
       "Pailwan House                        1\n",
       "Mezban Family Restaurant             1\n",
       "Sugary Bakers - A Boutique Bakery    1\n",
       "ThugLife Rolls                       1\n",
       "Mama Mys Cafe                        1\n",
       "                                    ..\n",
       "Maruti Garden                        1\n",
       "Guntur's Vandanam Food Zone          1\n",
       "Aahar Cafe                           1\n",
       "Super Chef's (New Royal treat)       1\n",
       "Village Kitchen                      1\n",
       "Name: name, Length: 69, dtype: int64"
      ]
     },
     "execution_count": 70,
     "metadata": {},
     "output_type": "execute_result"
    }
   ],
   "source": [
    "data[data.rate == '-']['name'].value_counts() #69 restaurants with no ratings"
   ]
  },
  {
   "cell_type": "code",
   "execution_count": null,
   "metadata": {},
   "outputs": [],
   "source": [
    "#this rate column is rating given by zomato"
   ]
  },
  {
   "cell_type": "code",
   "execution_count": 74,
   "metadata": {},
   "outputs": [],
   "source": [
    "#in reviews_list column we have rating given by customers alongside reviews. so for sentiment analysis we can go with \n",
    "#that column"
   ]
  },
  {
   "cell_type": "markdown",
   "metadata": {},
   "source": [
    "Now we have many restaurants and doing sentiment analysis for all makes no sense. we can may be find out the top rated\n"
   ]
  },
  {
   "cell_type": "code",
   "execution_count": 98,
   "metadata": {},
   "outputs": [
    {
     "data": {
      "text/plain": [
       "8792"
      ]
     },
     "execution_count": 98,
     "metadata": {},
     "output_type": "execute_result"
    }
   ],
   "source": [
    "data['name'].nunique()#8792 unique restaurants with many outlets "
   ]
  },
  {
   "cell_type": "code",
   "execution_count": 99,
   "metadata": {},
   "outputs": [],
   "source": [
    "#to do sentiment analysis we need to focus on any single outlet to understand how it is serving its customers"
   ]
  },
  {
   "cell_type": "code",
   "execution_count": 108,
   "metadata": {},
   "outputs": [
    {
     "data": {
      "text/plain": [
       "True"
      ]
     },
     "execution_count": 108,
     "metadata": {},
     "output_type": "execute_result"
    }
   ],
   "source": [
    "data.duplicated().any()"
   ]
  },
  {
   "cell_type": "code",
   "execution_count": 115,
   "metadata": {},
   "outputs": [],
   "source": [
    "#let's say we do sentiment analysis for one brand which has most number of outlets implying it's very famous"
   ]
  },
  {
   "cell_type": "code",
   "execution_count": 589,
   "metadata": {},
   "outputs": [],
   "source": [
    "data.rename(columns= {'listed_in(type)': 'Type', 'listed_in(city)': 'City', 'reviews_list' : 'Reviews'}, inplace = True)"
   ]
  },
  {
   "cell_type": "code",
   "execution_count": 569,
   "metadata": {},
   "outputs": [
    {
     "data": {
      "text/plain": [
       "(96, 13)"
      ]
     },
     "execution_count": 569,
     "metadata": {},
     "output_type": "execute_result"
    }
   ],
   "source": [
    "CCD = data[data.name == 'Cafe Coffee Day']                   #96 outlets\n",
    "CCD.shape"
   ]
  },
  {
   "cell_type": "code",
   "execution_count": 570,
   "metadata": {},
   "outputs": [
    {
     "data": {
      "text/html": [
       "<div>\n",
       "<style scoped>\n",
       "    .dataframe tbody tr th:only-of-type {\n",
       "        vertical-align: middle;\n",
       "    }\n",
       "\n",
       "    .dataframe tbody tr th {\n",
       "        vertical-align: top;\n",
       "    }\n",
       "\n",
       "    .dataframe thead th {\n",
       "        text-align: right;\n",
       "    }\n",
       "</style>\n",
       "<table border=\"1\" class=\"dataframe\">\n",
       "  <thead>\n",
       "    <tr style=\"text-align: right;\">\n",
       "      <th></th>\n",
       "      <th>name</th>\n",
       "      <th>online_order</th>\n",
       "      <th>book_table</th>\n",
       "      <th>rate</th>\n",
       "      <th>votes</th>\n",
       "      <th>rest_type</th>\n",
       "      <th>dish_liked</th>\n",
       "      <th>cuisines</th>\n",
       "      <th>approx_cost(for two people)</th>\n",
       "      <th>Reviews</th>\n",
       "      <th>menu_item</th>\n",
       "      <th>Type</th>\n",
       "      <th>City</th>\n",
       "    </tr>\n",
       "  </thead>\n",
       "  <tbody>\n",
       "    <tr>\n",
       "      <th>22</th>\n",
       "      <td>Cafe Coffee Day</td>\n",
       "      <td>No</td>\n",
       "      <td>No</td>\n",
       "      <td>3.6/5</td>\n",
       "      <td>28</td>\n",
       "      <td>Cafe</td>\n",
       "      <td>NaN</td>\n",
       "      <td>Cafe, Fast Food</td>\n",
       "      <td>900</td>\n",
       "      <td>[('Rated 4.0', 'RATED\\n  This outlet is better...</td>\n",
       "      <td>[]</td>\n",
       "      <td>Cafes</td>\n",
       "      <td>Banashankari</td>\n",
       "    </tr>\n",
       "    <tr>\n",
       "      <th>254</th>\n",
       "      <td>Cafe Coffee Day</td>\n",
       "      <td>Yes</td>\n",
       "      <td>No</td>\n",
       "      <td>3.2/5</td>\n",
       "      <td>17</td>\n",
       "      <td>Cafe</td>\n",
       "      <td>NaN</td>\n",
       "      <td>Cafe, Fast Food</td>\n",
       "      <td>900</td>\n",
       "      <td>[('Rated 5.0', 'RATED\\n  Delicious mouthwateri...</td>\n",
       "      <td>[]</td>\n",
       "      <td>Delivery</td>\n",
       "      <td>Banashankari</td>\n",
       "    </tr>\n",
       "    <tr>\n",
       "      <th>625</th>\n",
       "      <td>Cafe Coffee Day</td>\n",
       "      <td>No</td>\n",
       "      <td>No</td>\n",
       "      <td>NaN</td>\n",
       "      <td>0</td>\n",
       "      <td>Cafe</td>\n",
       "      <td>NaN</td>\n",
       "      <td>Cafe, Fast Food</td>\n",
       "      <td>900</td>\n",
       "      <td>[('Rated 4.0', 'RATED\\n  Had ordered devil?s o...</td>\n",
       "      <td>[]</td>\n",
       "      <td>Dine-out</td>\n",
       "      <td>Banashankari</td>\n",
       "    </tr>\n",
       "    <tr>\n",
       "      <th>889</th>\n",
       "      <td>Cafe Coffee Day</td>\n",
       "      <td>No</td>\n",
       "      <td>No</td>\n",
       "      <td>3.6/5</td>\n",
       "      <td>19</td>\n",
       "      <td>Cafe</td>\n",
       "      <td>NaN</td>\n",
       "      <td>Cafe, Fast Food</td>\n",
       "      <td>900</td>\n",
       "      <td>[('Rated 4.0', \"RATED\\n  It is Okay place. Thi...</td>\n",
       "      <td>[]</td>\n",
       "      <td>Cafes</td>\n",
       "      <td>Bannerghatta Road</td>\n",
       "    </tr>\n",
       "    <tr>\n",
       "      <th>1186</th>\n",
       "      <td>Cafe Coffee Day</td>\n",
       "      <td>Yes</td>\n",
       "      <td>No</td>\n",
       "      <td>3.7/5</td>\n",
       "      <td>26</td>\n",
       "      <td>Cafe</td>\n",
       "      <td>NaN</td>\n",
       "      <td>Cafe, Fast Food</td>\n",
       "      <td>900</td>\n",
       "      <td>[('Rated 3.0', 'RATED\\n  What can someone writ...</td>\n",
       "      <td>[\"Roasted Chicken 'n' Cheese Multigrain\", 'Dut...</td>\n",
       "      <td>Delivery</td>\n",
       "      <td>Bannerghatta Road</td>\n",
       "    </tr>\n",
       "  </tbody>\n",
       "</table>\n",
       "</div>"
      ],
      "text/plain": [
       "                 name online_order book_table   rate  votes rest_type  \\\n",
       "22    Cafe Coffee Day           No         No  3.6/5     28      Cafe   \n",
       "254   Cafe Coffee Day          Yes         No  3.2/5     17      Cafe   \n",
       "625   Cafe Coffee Day           No         No    NaN      0      Cafe   \n",
       "889   Cafe Coffee Day           No         No  3.6/5     19      Cafe   \n",
       "1186  Cafe Coffee Day          Yes         No  3.7/5     26      Cafe   \n",
       "\n",
       "     dish_liked         cuisines approx_cost(for two people)  \\\n",
       "22          NaN  Cafe, Fast Food                         900   \n",
       "254         NaN  Cafe, Fast Food                         900   \n",
       "625         NaN  Cafe, Fast Food                         900   \n",
       "889         NaN  Cafe, Fast Food                         900   \n",
       "1186        NaN  Cafe, Fast Food                         900   \n",
       "\n",
       "                                                Reviews  \\\n",
       "22    [('Rated 4.0', 'RATED\\n  This outlet is better...   \n",
       "254   [('Rated 5.0', 'RATED\\n  Delicious mouthwateri...   \n",
       "625   [('Rated 4.0', 'RATED\\n  Had ordered devil?s o...   \n",
       "889   [('Rated 4.0', \"RATED\\n  It is Okay place. Thi...   \n",
       "1186  [('Rated 3.0', 'RATED\\n  What can someone writ...   \n",
       "\n",
       "                                              menu_item      Type  \\\n",
       "22                                                   []     Cafes   \n",
       "254                                                  []  Delivery   \n",
       "625                                                  []  Dine-out   \n",
       "889                                                  []     Cafes   \n",
       "1186  [\"Roasted Chicken 'n' Cheese Multigrain\", 'Dut...  Delivery   \n",
       "\n",
       "                   City  \n",
       "22         Banashankari  \n",
       "254        Banashankari  \n",
       "625        Banashankari  \n",
       "889   Bannerghatta Road  \n",
       "1186  Bannerghatta Road  "
      ]
     },
     "execution_count": 570,
     "metadata": {},
     "output_type": "execute_result"
    }
   ],
   "source": [
    "CCD.head()"
   ]
  },
  {
   "cell_type": "code",
   "execution_count": 571,
   "metadata": {},
   "outputs": [],
   "source": [
    "#renaming few column\n",
    "\n",
    "#CCD.rename(columns= {'listed_in(type)': 'Type', 'listed_in(city)': 'City', 'reviews_list' : 'Reviews'}, inplace = True)"
   ]
  },
  {
   "cell_type": "code",
   "execution_count": 572,
   "metadata": {},
   "outputs": [
    {
     "data": {
      "text/plain": [
       "array(['name', 'online_order', 'book_table', 'rate', 'votes', 'rest_type',\n",
       "       'dish_liked', 'cuisines', 'approx_cost(for two people)', 'Reviews',\n",
       "       'menu_item', 'Type', 'City'], dtype=object)"
      ]
     },
     "execution_count": 572,
     "metadata": {},
     "output_type": "execute_result"
    }
   ],
   "source": [
    "CCD.columns.values"
   ]
  },
  {
   "cell_type": "code",
   "execution_count": 137,
   "metadata": {},
   "outputs": [],
   "source": [
    "#for each CCD outlet we can have a sentiment model which can be used for future prediction"
   ]
  },
  {
   "cell_type": "code",
   "execution_count": 138,
   "metadata": {},
   "outputs": [],
   "source": [
    "#let's say we choose the first oulet"
   ]
  },
  {
   "cell_type": "code",
   "execution_count": 532,
   "metadata": {},
   "outputs": [],
   "source": [
    "CCD1 = CCD.iloc[0,]\n",
    "#CCD1"
   ]
  },
  {
   "cell_type": "code",
   "execution_count": 533,
   "metadata": {},
   "outputs": [
    {
     "data": {
      "text/plain": [
       "'[(\\'Rated 4.0\\', \\'RATED\\\\n  This outlet is better than other outlets. But the service was slow. Ambience was good. The garlic bread was not that great. But the other dishes were yum.\\'), (\\'Rated 1.0\\', \"RATED\\\\n  Quality of coffee has gone worse. So so so diluted coffee.. Though I ordered cold coffee, it was not at all cold. Even AC seemed to be off in this summer as we felt really hot through out our time. Instead of paying service taxes n getting horrible coffee n sweating, it\\'s better to buy coke or drink water or visit better cafes.\"), (\\'Rated 3.0\\', \"RATED\\\\n  It\\'s a nice place to hangout because ambience is very relaxing. They serve different varieties of coffee. And recently they\\'ve added sandwiches burgers . But they\\'re not UpTo the mark. The only thing I like here is toastizza!! Not worth the price.\"), (\\'Rated 3.5\\', \\'RATED\\\\n  Good place to hangout with buddies, friendly staff but service could be improved. I ordered Cool Blue beverage, sizzle dazzle brownie and burger were so yummy. I would definitely recommend this place.\\\\n\\\\nAmbience : 3.5/5.\\\\nTaste: 3.5/5.\\\\nService: 3.5/5.\\\\nQuality: 3.5/5.\\'), (\\'Rated 3.5\\', \\'RATED\\\\n  Last month we visited this place , we had a small business meeting . The place is very nice and quiet . coffee was really good but unfortunately the burger was dry and stale.\\'), (\\'Rated 3.0\\', \"RATED\\\\n  This Cafe Coffee Day is a stone\\'s throw from my residence. It is better than other outlets in some ways, but also worse in others.\\\\n\\\\nThe good stuff - This CCD is hardly, if ever, crowded. even on weekends, it\\'s pretty easy to get a table. The hustle and bustle around the place is quite pleasing.\\\\n\\\\nBow, the bad - The staff members here are quite dumb. They can\\'t understand simple instructions, and often mess things up.\\\\n\\\\nJust like any other CCD.\\\\n\\\\nFood - 3/5\\\\nAmbiance - 3.5/5\\\\nService -2.5/5\\\\nValue for money - 3/5\\\\nHygiene - 3.5/5\\\\nOverall - 3/5\"), (\\'Rated 4.5\\', \\'RATED\\\\n  Like Shubha has stated, this coffee day is different and holds a great value because it is in the area I usually hang out. I have been visiting CCD BSK since it opened. It has been my adda through school, junior college and I have even scheduled a couple of meetings there recently. What is so special here? The service! Yes coffee day has the order at the counter policy, but the staff at this one are extremely cheery and friendly. They always have a warm smile when they greet you and even suggest some different items to try. My favorite at coffee day has shifted from cappuccino to their Frosteas! Pomegranate and Lemon Frostea with a Tex Mex Sandwich! All enough to fill your belly!\\\\ni like their ambience, and love interacting with their staff. Pretty much go there everyday!\\'), (\\'Rated 4.0\\', \"RATED\\\\n  I know this is like any other coffee days but since this is Katriguppe and My area ... I hold it very close to me\\\\n\\\\nI would want to visit this place any day anytime.. alone or with anybody for that matter and it sure does gimme a good feel\\\\n\\\\nMy personal favourite.. Hot cappuccino, Chilli cheese sandwich ( the combo ), a mango shot ( for a lil cold feel ),\\\\n\\\\nbanana chips and some nice VH1 music else the manager, Mallesh is sweet enough to switch on the tv for us in case of any cricket matches being played that day...\\\\n\\\\nMany ppl don\\'t like this cafÃ\\x83\\\\x83Ã\\x82\\\\x83Ã\\x83\\\\x82Ã\\x82\\\\x83Ã\\x83\\\\x83Ã\\x82\\\\x82Ã\\x83\\\\x82Ã\\x82Â© maybe cause of traffic and the noise but I personally feel once you are seated inside/outside with your buddies comfortably..these things become trivial :)\\\\n\\\\nTry the new Veg wraps\"), (\\'Rated 3.5\\', \\'RATED\\\\n  Cafe! best place to hang out wid best buddies:-*\\')]'"
      ]
     },
     "execution_count": 533,
     "metadata": {},
     "output_type": "execute_result"
    }
   ],
   "source": [
    "CCD1.Reviews"
   ]
  },
  {
   "cell_type": "code",
   "execution_count": 534,
   "metadata": {},
   "outputs": [],
   "source": [
    "CCD1.Reviews= CCD1.Reviews.replace(\"RATED\\\\n\", \"\")"
   ]
  },
  {
   "cell_type": "code",
   "execution_count": 535,
   "metadata": {},
   "outputs": [],
   "source": [
    "CCD1.Reviews = CCD1.Reviews.replace(\"\\'\", \"\")"
   ]
  },
  {
   "cell_type": "code",
   "execution_count": 536,
   "metadata": {},
   "outputs": [
    {
     "data": {
      "text/plain": [
       "str"
      ]
     },
     "execution_count": 536,
     "metadata": {},
     "output_type": "execute_result"
    }
   ],
   "source": [
    "type(CCD1.Reviews)"
   ]
  },
  {
   "cell_type": "code",
   "execution_count": 537,
   "metadata": {},
   "outputs": [
    {
     "data": {
      "text/plain": [
       "'[(Rated 4.0,   This outlet is better than other outlets. But the service was slow. Ambience was good. The garlic bread was not that great. But the other dishes were yum.), (Rated 1.0, \"  Quality of coffee has gone worse. So so so diluted coffee.. Though I ordered cold coffee, it was not at all cold. Even AC seemed to be off in this summer as we felt really hot through out our time. Instead of paying service taxes n getting horrible coffee n sweating, its better to buy coke or drink water or visit better cafes.\"), (Rated 3.0, \"  Its a nice place to hangout because ambience is very relaxing. They serve different varieties of coffee. And recently theyve added sandwiches burgers . But theyre not UpTo the mark. The only thing I like here is toastizza!! Not worth the price.\"), (Rated 3.5,   Good place to hangout with buddies, friendly staff but service could be improved. I ordered Cool Blue beverage, sizzle dazzle brownie and burger were so yummy. I would definitely recommend this place.\\\\n\\\\nAmbience : 3.5/5.\\\\nTaste: 3.5/5.\\\\nService: 3.5/5.\\\\nQuality: 3.5/5.), (Rated 3.5,   Last month we visited this place , we had a small business meeting . The place is very nice and quiet . coffee was really good but unfortunately the burger was dry and stale.), (Rated 3.0, \"  This Cafe Coffee Day is a stones throw from my residence. It is better than other outlets in some ways, but also worse in others.\\\\n\\\\nThe good stuff - This CCD is hardly, if ever, crowded. even on weekends, its pretty easy to get a table. The hustle and bustle around the place is quite pleasing.\\\\n\\\\nBow, the bad - The staff members here are quite dumb. They cant understand simple instructions, and often mess things up.\\\\n\\\\nJust like any other CCD.\\\\n\\\\nFood - 3/5\\\\nAmbiance - 3.5/5\\\\nService -2.5/5\\\\nValue for money - 3/5\\\\nHygiene - 3.5/5\\\\nOverall - 3/5\"), (Rated 4.5,   Like Shubha has stated, this coffee day is different and holds a great value because it is in the area I usually hang out. I have been visiting CCD BSK since it opened. It has been my adda through school, junior college and I have even scheduled a couple of meetings there recently. What is so special here? The service! Yes coffee day has the order at the counter policy, but the staff at this one are extremely cheery and friendly. They always have a warm smile when they greet you and even suggest some different items to try. My favorite at coffee day has shifted from cappuccino to their Frosteas! Pomegranate and Lemon Frostea with a Tex Mex Sandwich! All enough to fill your belly!\\\\ni like their ambience, and love interacting with their staff. Pretty much go there everyday!), (Rated 4.0, \"  I know this is like any other coffee days but since this is Katriguppe and My area ... I hold it very close to me\\\\n\\\\nI would want to visit this place any day anytime.. alone or with anybody for that matter and it sure does gimme a good feel\\\\n\\\\nMy personal favourite.. Hot cappuccino, Chilli cheese sandwich ( the combo ), a mango shot ( for a lil cold feel ),\\\\n\\\\nbanana chips and some nice VH1 music else the manager, Mallesh is sweet enough to switch on the tv for us in case of any cricket matches being played that day...\\\\n\\\\nMany ppl dont like this cafÃ\\x83\\\\x83Ã\\x82\\\\x83Ã\\x83\\\\x82Ã\\x82\\\\x83Ã\\x83\\\\x83Ã\\x82\\\\x82Ã\\x83\\\\x82Ã\\x82Â© maybe cause of traffic and the noise but I personally feel once you are seated inside/outside with your buddies comfortably..these things become trivial :)\\\\n\\\\nTry the new Veg wraps\"), (Rated 3.5,   Cafe! best place to hang out wid best buddies:-*)]'"
      ]
     },
     "execution_count": 537,
     "metadata": {},
     "output_type": "execute_result"
    }
   ],
   "source": [
    "CCD1.Reviews"
   ]
  },
  {
   "cell_type": "code",
   "execution_count": 538,
   "metadata": {},
   "outputs": [],
   "source": [
    "Reviews = CCD1.Reviews.strip('[]')#convert from string of list to str"
   ]
  },
  {
   "cell_type": "code",
   "execution_count": 539,
   "metadata": {},
   "outputs": [
    {
     "data": {
      "text/plain": [
       "'(Rated 4.0,   This outlet is better than other outlets. But the service was slow. Ambience was good. The garlic bread was not that great. But the other dishes were yum.), (Rated 1.0, \"  Quality of coffee has gone worse. So so so diluted coffee.. Though I ordered cold coffee, it was not at all cold. Even AC seemed to be off in this summer as we felt really hot through out our time. Instead of paying service taxes n getting horrible coffee n sweating, its better to buy coke or drink water or visit better cafes.\"), (Rated 3.0, \"  Its a nice place to hangout because ambience is very relaxing. They serve different varieties of coffee. And recently theyve added sandwiches burgers . But theyre not UpTo the mark. The only thing I like here is toastizza!! Not worth the price.\"), (Rated 3.5,   Good place to hangout with buddies, friendly staff but service could be improved. I ordered Cool Blue beverage, sizzle dazzle brownie and burger were so yummy. I would definitely recommend this place.\\\\n\\\\nAmbience : 3.5/5.\\\\nTaste: 3.5/5.\\\\nService: 3.5/5.\\\\nQuality: 3.5/5.), (Rated 3.5,   Last month we visited this place , we had a small business meeting . The place is very nice and quiet . coffee was really good but unfortunately the burger was dry and stale.), (Rated 3.0, \"  This Cafe Coffee Day is a stones throw from my residence. It is better than other outlets in some ways, but also worse in others.\\\\n\\\\nThe good stuff - This CCD is hardly, if ever, crowded. even on weekends, its pretty easy to get a table. The hustle and bustle around the place is quite pleasing.\\\\n\\\\nBow, the bad - The staff members here are quite dumb. They cant understand simple instructions, and often mess things up.\\\\n\\\\nJust like any other CCD.\\\\n\\\\nFood - 3/5\\\\nAmbiance - 3.5/5\\\\nService -2.5/5\\\\nValue for money - 3/5\\\\nHygiene - 3.5/5\\\\nOverall - 3/5\"), (Rated 4.5,   Like Shubha has stated, this coffee day is different and holds a great value because it is in the area I usually hang out. I have been visiting CCD BSK since it opened. It has been my adda through school, junior college and I have even scheduled a couple of meetings there recently. What is so special here? The service! Yes coffee day has the order at the counter policy, but the staff at this one are extremely cheery and friendly. They always have a warm smile when they greet you and even suggest some different items to try. My favorite at coffee day has shifted from cappuccino to their Frosteas! Pomegranate and Lemon Frostea with a Tex Mex Sandwich! All enough to fill your belly!\\\\ni like their ambience, and love interacting with their staff. Pretty much go there everyday!), (Rated 4.0, \"  I know this is like any other coffee days but since this is Katriguppe and My area ... I hold it very close to me\\\\n\\\\nI would want to visit this place any day anytime.. alone or with anybody for that matter and it sure does gimme a good feel\\\\n\\\\nMy personal favourite.. Hot cappuccino, Chilli cheese sandwich ( the combo ), a mango shot ( for a lil cold feel ),\\\\n\\\\nbanana chips and some nice VH1 music else the manager, Mallesh is sweet enough to switch on the tv for us in case of any cricket matches being played that day...\\\\n\\\\nMany ppl dont like this cafÃ\\x83\\\\x83Ã\\x82\\\\x83Ã\\x83\\\\x82Ã\\x82\\\\x83Ã\\x83\\\\x83Ã\\x82\\\\x82Ã\\x83\\\\x82Ã\\x82Â© maybe cause of traffic and the noise but I personally feel once you are seated inside/outside with your buddies comfortably..these things become trivial :)\\\\n\\\\nTry the new Veg wraps\"), (Rated 3.5,   Cafe! best place to hang out wid best buddies:-*)'"
      ]
     },
     "execution_count": 539,
     "metadata": {},
     "output_type": "execute_result"
    }
   ],
   "source": [
    "Reviews"
   ]
  },
  {
   "cell_type": "code",
   "execution_count": 540,
   "metadata": {},
   "outputs": [
    {
     "data": {
      "text/plain": [
       "str"
      ]
     },
     "execution_count": 540,
     "metadata": {},
     "output_type": "execute_result"
    }
   ],
   "source": [
    "type(Reviews)"
   ]
  },
  {
   "cell_type": "code",
   "execution_count": 541,
   "metadata": {},
   "outputs": [],
   "source": [
    "Reviews = Reviews.split(\"), (\")"
   ]
  },
  {
   "cell_type": "code",
   "execution_count": 542,
   "metadata": {},
   "outputs": [
    {
     "data": {
      "text/plain": [
       "['(Rated 4.0,   This outlet is better than other outlets. But the service was slow. Ambience was good. The garlic bread was not that great. But the other dishes were yum.',\n",
       " 'Rated 1.0, \"  Quality of coffee has gone worse. So so so diluted coffee.. Though I ordered cold coffee, it was not at all cold. Even AC seemed to be off in this summer as we felt really hot through out our time. Instead of paying service taxes n getting horrible coffee n sweating, its better to buy coke or drink water or visit better cafes.\"',\n",
       " 'Rated 3.0, \"  Its a nice place to hangout because ambience is very relaxing. They serve different varieties of coffee. And recently theyve added sandwiches burgers . But theyre not UpTo the mark. The only thing I like here is toastizza!! Not worth the price.\"',\n",
       " 'Rated 3.5,   Good place to hangout with buddies, friendly staff but service could be improved. I ordered Cool Blue beverage, sizzle dazzle brownie and burger were so yummy. I would definitely recommend this place.\\\\n\\\\nAmbience : 3.5/5.\\\\nTaste: 3.5/5.\\\\nService: 3.5/5.\\\\nQuality: 3.5/5.',\n",
       " 'Rated 3.5,   Last month we visited this place , we had a small business meeting . The place is very nice and quiet . coffee was really good but unfortunately the burger was dry and stale.',\n",
       " 'Rated 3.0, \"  This Cafe Coffee Day is a stones throw from my residence. It is better than other outlets in some ways, but also worse in others.\\\\n\\\\nThe good stuff - This CCD is hardly, if ever, crowded. even on weekends, its pretty easy to get a table. The hustle and bustle around the place is quite pleasing.\\\\n\\\\nBow, the bad - The staff members here are quite dumb. They cant understand simple instructions, and often mess things up.\\\\n\\\\nJust like any other CCD.\\\\n\\\\nFood - 3/5\\\\nAmbiance - 3.5/5\\\\nService -2.5/5\\\\nValue for money - 3/5\\\\nHygiene - 3.5/5\\\\nOverall - 3/5\"',\n",
       " 'Rated 4.5,   Like Shubha has stated, this coffee day is different and holds a great value because it is in the area I usually hang out. I have been visiting CCD BSK since it opened. It has been my adda through school, junior college and I have even scheduled a couple of meetings there recently. What is so special here? The service! Yes coffee day has the order at the counter policy, but the staff at this one are extremely cheery and friendly. They always have a warm smile when they greet you and even suggest some different items to try. My favorite at coffee day has shifted from cappuccino to their Frosteas! Pomegranate and Lemon Frostea with a Tex Mex Sandwich! All enough to fill your belly!\\\\ni like their ambience, and love interacting with their staff. Pretty much go there everyday!',\n",
       " 'Rated 4.0, \"  I know this is like any other coffee days but since this is Katriguppe and My area ... I hold it very close to me\\\\n\\\\nI would want to visit this place any day anytime.. alone or with anybody for that matter and it sure does gimme a good feel\\\\n\\\\nMy personal favourite.. Hot cappuccino, Chilli cheese sandwich ( the combo ), a mango shot ( for a lil cold feel ),\\\\n\\\\nbanana chips and some nice VH1 music else the manager, Mallesh is sweet enough to switch on the tv for us in case of any cricket matches being played that day...\\\\n\\\\nMany ppl dont like this cafÃ\\x83\\\\x83Ã\\x82\\\\x83Ã\\x83\\\\x82Ã\\x82\\\\x83Ã\\x83\\\\x83Ã\\x82\\\\x82Ã\\x83\\\\x82Ã\\x82Â© maybe cause of traffic and the noise but I personally feel once you are seated inside/outside with your buddies comfortably..these things become trivial :)\\\\n\\\\nTry the new Veg wraps\"',\n",
       " 'Rated 3.5,   Cafe! best place to hang out wid best buddies:-*)']"
      ]
     },
     "execution_count": 542,
     "metadata": {},
     "output_type": "execute_result"
    }
   ],
   "source": [
    "Reviews"
   ]
  },
  {
   "cell_type": "code",
   "execution_count": 463,
   "metadata": {},
   "outputs": [],
   "source": [
    "#Reviews = Reviews.split(\"RATED\\\\n\") #splitting at '), ' to split into individual tuple"
   ]
  },
  {
   "cell_type": "code",
   "execution_count": 543,
   "metadata": {},
   "outputs": [
    {
     "data": {
      "text/plain": [
       "'(Rated 4.0,   This outlet is better than other outlets. But the service was slow. Ambience was good. The garlic bread was not that great. But the other dishes were yum.'"
      ]
     },
     "execution_count": 543,
     "metadata": {},
     "output_type": "execute_result"
    }
   ],
   "source": [
    "Reviews[0]"
   ]
  },
  {
   "cell_type": "code",
   "execution_count": 544,
   "metadata": {},
   "outputs": [
    {
     "data": {
      "text/plain": [
       "list"
      ]
     },
     "execution_count": 544,
     "metadata": {},
     "output_type": "execute_result"
    }
   ],
   "source": [
    "type(Reviews)"
   ]
  },
  {
   "cell_type": "code",
   "execution_count": 685,
   "metadata": {},
   "outputs": [],
   "source": [
    "#Reviews = Reviews.split(\"\\'), \")"
   ]
  },
  {
   "cell_type": "code",
   "execution_count": 435,
   "metadata": {},
   "outputs": [],
   "source": [
    "#Reviews"
   ]
  },
  {
   "cell_type": "code",
   "execution_count": 545,
   "metadata": {},
   "outputs": [
    {
     "data": {
      "text/plain": [
       "9"
      ]
     },
     "execution_count": 545,
     "metadata": {},
     "output_type": "execute_result"
    }
   ],
   "source": [
    "len(Reviews)"
   ]
  },
  {
   "cell_type": "code",
   "execution_count": 546,
   "metadata": {},
   "outputs": [],
   "source": [
    "Reviews_df = pd.DataFrame({'Text':Reviews})"
   ]
  },
  {
   "cell_type": "code",
   "execution_count": 547,
   "metadata": {
    "scrolled": true
   },
   "outputs": [
    {
     "data": {
      "text/html": [
       "<div>\n",
       "<style scoped>\n",
       "    .dataframe tbody tr th:only-of-type {\n",
       "        vertical-align: middle;\n",
       "    }\n",
       "\n",
       "    .dataframe tbody tr th {\n",
       "        vertical-align: top;\n",
       "    }\n",
       "\n",
       "    .dataframe thead th {\n",
       "        text-align: right;\n",
       "    }\n",
       "</style>\n",
       "<table border=\"1\" class=\"dataframe\">\n",
       "  <thead>\n",
       "    <tr style=\"text-align: right;\">\n",
       "      <th></th>\n",
       "      <th>Text</th>\n",
       "    </tr>\n",
       "  </thead>\n",
       "  <tbody>\n",
       "    <tr>\n",
       "      <th>0</th>\n",
       "      <td>(Rated 4.0,   This outlet is better than other...</td>\n",
       "    </tr>\n",
       "    <tr>\n",
       "      <th>1</th>\n",
       "      <td>Rated 1.0, \"  Quality of coffee has gone worse...</td>\n",
       "    </tr>\n",
       "    <tr>\n",
       "      <th>2</th>\n",
       "      <td>Rated 3.0, \"  Its a nice place to hangout beca...</td>\n",
       "    </tr>\n",
       "    <tr>\n",
       "      <th>3</th>\n",
       "      <td>Rated 3.5,   Good place to hangout with buddie...</td>\n",
       "    </tr>\n",
       "    <tr>\n",
       "      <th>4</th>\n",
       "      <td>Rated 3.5,   Last month we visited this place ...</td>\n",
       "    </tr>\n",
       "    <tr>\n",
       "      <th>5</th>\n",
       "      <td>Rated 3.0, \"  This Cafe Coffee Day is a stones...</td>\n",
       "    </tr>\n",
       "    <tr>\n",
       "      <th>6</th>\n",
       "      <td>Rated 4.5,   Like Shubha has stated, this coff...</td>\n",
       "    </tr>\n",
       "    <tr>\n",
       "      <th>7</th>\n",
       "      <td>Rated 4.0, \"  I know this is like any other co...</td>\n",
       "    </tr>\n",
       "    <tr>\n",
       "      <th>8</th>\n",
       "      <td>Rated 3.5,   Cafe! best place to hang out wid ...</td>\n",
       "    </tr>\n",
       "  </tbody>\n",
       "</table>\n",
       "</div>"
      ],
      "text/plain": [
       "                                                Text\n",
       "0  (Rated 4.0,   This outlet is better than other...\n",
       "1  Rated 1.0, \"  Quality of coffee has gone worse...\n",
       "2  Rated 3.0, \"  Its a nice place to hangout beca...\n",
       "3  Rated 3.5,   Good place to hangout with buddie...\n",
       "4  Rated 3.5,   Last month we visited this place ...\n",
       "5  Rated 3.0, \"  This Cafe Coffee Day is a stones...\n",
       "6  Rated 4.5,   Like Shubha has stated, this coff...\n",
       "7  Rated 4.0, \"  I know this is like any other co...\n",
       "8  Rated 3.5,   Cafe! best place to hang out wid ..."
      ]
     },
     "execution_count": 547,
     "metadata": {},
     "output_type": "execute_result"
    }
   ],
   "source": [
    "Reviews_df # each row has a tuple containing rating and a review text"
   ]
  },
  {
   "cell_type": "code",
   "execution_count": 548,
   "metadata": {},
   "outputs": [],
   "source": [
    "#now we need to split each tuple into 2 columns # after investigation we find that row 8 was actually part of 7\n",
    "#but got in a new row due to splitting criteria"
   ]
  },
  {
   "cell_type": "code",
   "execution_count": 549,
   "metadata": {},
   "outputs": [],
   "source": [
    "Reviews_df['Rating'] = Reviews_df.Text.apply(lambda x: x.split(', ')[0])"
   ]
  },
  {
   "cell_type": "code",
   "execution_count": 550,
   "metadata": {},
   "outputs": [],
   "source": [
    "Reviews_df['Review'] = Reviews_df.Text.apply(lambda x: x.split(', ')[1])"
   ]
  },
  {
   "cell_type": "code",
   "execution_count": 552,
   "metadata": {},
   "outputs": [
    {
     "data": {
      "text/html": [
       "<div>\n",
       "<style scoped>\n",
       "    .dataframe tbody tr th:only-of-type {\n",
       "        vertical-align: middle;\n",
       "    }\n",
       "\n",
       "    .dataframe tbody tr th {\n",
       "        vertical-align: top;\n",
       "    }\n",
       "\n",
       "    .dataframe thead th {\n",
       "        text-align: right;\n",
       "    }\n",
       "</style>\n",
       "<table border=\"1\" class=\"dataframe\">\n",
       "  <thead>\n",
       "    <tr style=\"text-align: right;\">\n",
       "      <th></th>\n",
       "      <th>Text</th>\n",
       "      <th>Rating</th>\n",
       "      <th>Review</th>\n",
       "    </tr>\n",
       "  </thead>\n",
       "  <tbody>\n",
       "    <tr>\n",
       "      <th>0</th>\n",
       "      <td>(Rated 4.0,   This outlet is better than other...</td>\n",
       "      <td>(Rated 4.0</td>\n",
       "      <td>This outlet is better than other outlets. Bu...</td>\n",
       "    </tr>\n",
       "    <tr>\n",
       "      <th>1</th>\n",
       "      <td>Rated 1.0, \"  Quality of coffee has gone worse...</td>\n",
       "      <td>Rated 1.0</td>\n",
       "      <td>\"  Quality of coffee has gone worse. So so so ...</td>\n",
       "    </tr>\n",
       "    <tr>\n",
       "      <th>2</th>\n",
       "      <td>Rated 3.0, \"  Its a nice place to hangout beca...</td>\n",
       "      <td>Rated 3.0</td>\n",
       "      <td>\"  Its a nice place to hangout because ambienc...</td>\n",
       "    </tr>\n",
       "    <tr>\n",
       "      <th>3</th>\n",
       "      <td>Rated 3.5,   Good place to hangout with buddie...</td>\n",
       "      <td>Rated 3.5</td>\n",
       "      <td>Good place to hangout with buddies</td>\n",
       "    </tr>\n",
       "    <tr>\n",
       "      <th>4</th>\n",
       "      <td>Rated 3.5,   Last month we visited this place ...</td>\n",
       "      <td>Rated 3.5</td>\n",
       "      <td>Last month we visited this place</td>\n",
       "    </tr>\n",
       "    <tr>\n",
       "      <th>5</th>\n",
       "      <td>Rated 3.0, \"  This Cafe Coffee Day is a stones...</td>\n",
       "      <td>Rated 3.0</td>\n",
       "      <td>\"  This Cafe Coffee Day is a stones throw from...</td>\n",
       "    </tr>\n",
       "    <tr>\n",
       "      <th>6</th>\n",
       "      <td>Rated 4.5,   Like Shubha has stated, this coff...</td>\n",
       "      <td>Rated 4.5</td>\n",
       "      <td>Like Shubha has stated</td>\n",
       "    </tr>\n",
       "    <tr>\n",
       "      <th>7</th>\n",
       "      <td>Rated 4.0, \"  I know this is like any other co...</td>\n",
       "      <td>Rated 4.0</td>\n",
       "      <td>\"  I know this is like any other coffee days b...</td>\n",
       "    </tr>\n",
       "    <tr>\n",
       "      <th>8</th>\n",
       "      <td>Rated 3.5,   Cafe! best place to hang out wid ...</td>\n",
       "      <td>Rated 3.5</td>\n",
       "      <td>Cafe! best place to hang out wid best buddie...</td>\n",
       "    </tr>\n",
       "  </tbody>\n",
       "</table>\n",
       "</div>"
      ],
      "text/plain": [
       "                                                Text      Rating  \\\n",
       "0  (Rated 4.0,   This outlet is better than other...  (Rated 4.0   \n",
       "1  Rated 1.0, \"  Quality of coffee has gone worse...   Rated 1.0   \n",
       "2  Rated 3.0, \"  Its a nice place to hangout beca...   Rated 3.0   \n",
       "3  Rated 3.5,   Good place to hangout with buddie...   Rated 3.5   \n",
       "4  Rated 3.5,   Last month we visited this place ...   Rated 3.5   \n",
       "5  Rated 3.0, \"  This Cafe Coffee Day is a stones...   Rated 3.0   \n",
       "6  Rated 4.5,   Like Shubha has stated, this coff...   Rated 4.5   \n",
       "7  Rated 4.0, \"  I know this is like any other co...   Rated 4.0   \n",
       "8  Rated 3.5,   Cafe! best place to hang out wid ...   Rated 3.5   \n",
       "\n",
       "                                              Review  \n",
       "0    This outlet is better than other outlets. Bu...  \n",
       "1  \"  Quality of coffee has gone worse. So so so ...  \n",
       "2  \"  Its a nice place to hangout because ambienc...  \n",
       "3                 Good place to hangout with buddies  \n",
       "4                  Last month we visited this place   \n",
       "5  \"  This Cafe Coffee Day is a stones throw from...  \n",
       "6                             Like Shubha has stated  \n",
       "7  \"  I know this is like any other coffee days b...  \n",
       "8    Cafe! best place to hang out wid best buddie...  "
      ]
     },
     "execution_count": 552,
     "metadata": {},
     "output_type": "execute_result"
    }
   ],
   "source": [
    "Reviews_df"
   ]
  },
  {
   "cell_type": "code",
   "execution_count": 473,
   "metadata": {},
   "outputs": [],
   "source": [
    "#We need to clean both the rating and review columns"
   ]
  },
  {
   "cell_type": "code",
   "execution_count": 553,
   "metadata": {},
   "outputs": [],
   "source": [
    "def clean_text(x):\n",
    "    text = x.replace(\"Rated\", \"\")\n",
    "    text = re.sub(r\"[-()\\\"#/@;:<>{}`+=~|.!?,']\", \"\", text)\n",
    "    text = text.lower()\n",
    "    return text"
   ]
  },
  {
   "cell_type": "code",
   "execution_count": 554,
   "metadata": {},
   "outputs": [],
   "source": [
    "Reviews_df['Rating'] = Reviews_df['Rating'].apply(clean_text)"
   ]
  },
  {
   "cell_type": "code",
   "execution_count": 555,
   "metadata": {
    "scrolled": true
   },
   "outputs": [],
   "source": [
    "Reviews_df.Rating = Reviews_df.Rating.astype(float)"
   ]
  },
  {
   "cell_type": "code",
   "execution_count": 556,
   "metadata": {},
   "outputs": [],
   "source": [
    "Reviews_df.Rating = round(Reviews_df.Rating/10,1)"
   ]
  },
  {
   "cell_type": "code",
   "execution_count": 557,
   "metadata": {},
   "outputs": [],
   "source": [
    "def clean_text2(text):\n",
    "\n",
    "    text = text.lower().strip()\n",
    "    text = re.sub(r\"i'm\", \"i am\", text)\n",
    "    text = re.sub(r\"he's\", \"he is\", text)\n",
    "    text = re.sub(r\"she's\", \"she is\", text)\n",
    "    text = re.sub(r\"that's\", \"that is\", text)\n",
    "    text = re.sub(r\"what's\", \"what is\", text)\n",
    "    text = re.sub(r\"where's\", \"where is\", text)\n",
    "    text = re.sub(r\"how's\", \"how is\", text)\n",
    "    text = re.sub(r\"\\'s\", \" is\", text)\n",
    "    text = re.sub(r\"\\'ll\", \" will\", text)\n",
    "    text = re.sub(r\"\\'ve\", \" have\", text)\n",
    "    text = re.sub(r\"\\'re\", \" are\", text)\n",
    "    text = re.sub(r\"\\'d\", \" would\", text)\n",
    "    text = re.sub(r\"won't\", \"will not\", text)\n",
    "    text = re.sub(r\"can't\", \"cannot\", text)\n",
    "    text = re.sub(r\"n't\", \" not\", text)\n",
    "    text = re.sub(r\"<br>\", \" \", text)\n",
    "    text = re.sub(r\"([-?.!,/\\\"])\", r\" \\1 \", text)\n",
    "    text = re.sub(r\"[-()\\\"#/@;:<>{}`+=~|.!?,'*\\\\]\", \"\", text)\n",
    "    text = re.sub(r\"[ ]+\", \" \", text)\n",
    "    text = text.rstrip().strip()\n",
    "\n",
    "    return text"
   ]
  },
  {
   "cell_type": "code",
   "execution_count": 558,
   "metadata": {},
   "outputs": [],
   "source": [
    "Reviews_df.Review = Reviews_df.Review.apply(clean_text2)"
   ]
  },
  {
   "cell_type": "code",
   "execution_count": 559,
   "metadata": {},
   "outputs": [],
   "source": [
    "corpus = \" \".join(i for i in Reviews_df.Review)"
   ]
  },
  {
   "cell_type": "code",
   "execution_count": 560,
   "metadata": {},
   "outputs": [
    {
     "data": {
      "text/plain": [
       "'this outlet is better than other outlets but the service was slow ambience was good the garlic bread was not that great but the other dishes were yum quality of coffee has gone worse so so so diluted coffee though i ordered cold coffee its a nice place to hangout because ambience is very relaxing they serve different varieties of coffee and recently theyve added sandwiches burgers but theyre not upto the mark the only thing i like here is toastizza not worth the price good place to hangout with buddies last month we visited this place this cafe coffee day is a stones throw from my residence it is better than other outlets in some ways like shubha has stated i know this is like any other coffee days but since this is katriguppe and my area i hold it very close to menni would want to visit this place any day anytime alone or with anybody for that matter and it sure does gimme a good feelnnmy personal favourite hot cappuccino cafe best place to hang out wid best buddies'"
      ]
     },
     "execution_count": 560,
     "metadata": {},
     "output_type": "execute_result"
    }
   ],
   "source": [
    "corpus # when this corpus is lrge enough we can count the number of words occurring max times"
   ]
  },
  {
   "cell_type": "code",
   "execution_count": 561,
   "metadata": {},
   "outputs": [],
   "source": [
    "#as we can see we only have a small number of reviews - 9 rows on which no modelling will be effective. \n",
    "#But what we can do is we can find the number of rows/len for each restaurant and which ever has a lot we can try and do\n",
    "#sentiment analysis for that restaurant\n",
    "\n",
    "#we can combine all ccd outlets to get sentiment but that will not be good since outlets are independent."
   ]
  },
  {
   "cell_type": "code",
   "execution_count": 580,
   "metadata": {},
   "outputs": [
    {
     "data": {
      "text/plain": [
       "51717"
      ]
     },
     "execution_count": 580,
     "metadata": {},
     "output_type": "execute_result"
    }
   ],
   "source": [
    "len(data.name)"
   ]
  },
  {
   "cell_type": "code",
   "execution_count": 581,
   "metadata": {},
   "outputs": [
    {
     "data": {
      "text/plain": [
       "array(['name', 'online_order', 'book_table', 'rate', 'votes', 'rest_type',\n",
       "       'dish_liked', 'cuisines', 'approx_cost(for two people)', 'Reviews',\n",
       "       'menu_item', 'Type', 'City'], dtype=object)"
      ]
     },
     "execution_count": 581,
     "metadata": {},
     "output_type": "execute_result"
    }
   ],
   "source": [
    "data.columns.values"
   ]
  },
  {
   "cell_type": "code",
   "execution_count": 591,
   "metadata": {},
   "outputs": [],
   "source": [
    "#we will just need the Reviews column for further study and hence creating a new dataframe with only that column\n",
    "data_new = data[['name','Reviews']]"
   ]
  },
  {
   "cell_type": "code",
   "execution_count": 594,
   "metadata": {
    "scrolled": true
   },
   "outputs": [],
   "source": [
    "data_new.rename(columns= {'name': 'Name'}, inplace = True)"
   ]
  },
  {
   "cell_type": "code",
   "execution_count": 596,
   "metadata": {},
   "outputs": [
    {
     "data": {
      "text/html": [
       "<div>\n",
       "<style scoped>\n",
       "    .dataframe tbody tr th:only-of-type {\n",
       "        vertical-align: middle;\n",
       "    }\n",
       "\n",
       "    .dataframe tbody tr th {\n",
       "        vertical-align: top;\n",
       "    }\n",
       "\n",
       "    .dataframe thead th {\n",
       "        text-align: right;\n",
       "    }\n",
       "</style>\n",
       "<table border=\"1\" class=\"dataframe\">\n",
       "  <thead>\n",
       "    <tr style=\"text-align: right;\">\n",
       "      <th></th>\n",
       "      <th>Name</th>\n",
       "      <th>Reviews</th>\n",
       "    </tr>\n",
       "  </thead>\n",
       "  <tbody>\n",
       "    <tr>\n",
       "      <th>0</th>\n",
       "      <td>Jalsa</td>\n",
       "      <td>[('Rated 4.0', 'RATED\\n  A beautiful place to ...</td>\n",
       "    </tr>\n",
       "    <tr>\n",
       "      <th>1</th>\n",
       "      <td>Spice Elephant</td>\n",
       "      <td>[('Rated 4.0', 'RATED\\n  Had been here for din...</td>\n",
       "    </tr>\n",
       "  </tbody>\n",
       "</table>\n",
       "</div>"
      ],
      "text/plain": [
       "             Name                                            Reviews\n",
       "0           Jalsa  [('Rated 4.0', 'RATED\\n  A beautiful place to ...\n",
       "1  Spice Elephant  [('Rated 4.0', 'RATED\\n  Had been here for din..."
      ]
     },
     "execution_count": 596,
     "metadata": {},
     "output_type": "execute_result"
    }
   ],
   "source": [
    "data_new.head(2)"
   ]
  },
  {
   "cell_type": "code",
   "execution_count": null,
   "metadata": {},
   "outputs": [],
   "source": [
    "CCD1.Reviews= CCD1.Reviews.replace(\"RATED\\\\n\", \"\")\n",
    "CCD1.Reviews = CCD1.Reviews.replace(\"\\'\", \"\")\n",
    "Reviews = CCD1.Reviews.strip('[]')\n",
    "Reviews = Reviews.split(\"), (\")\n",
    "Reviews_df = pd.DataFrame({'Text':Reviews})\n",
    "Reviews_df['Rating'] = Reviews_df.Text.apply(lambda x: x.split(', ')[0])\n",
    "Reviews_df['Review'] = Reviews_df.Text.apply(lambda x: x.split(', ')[1])\n",
    "def clean_text(x):\n",
    "    text = x.replace(\"Rated\", \"\")\n",
    "    text = re.sub(r\"[-()\\\"#/@;:<>{}`+=~|.!?,']\", \"\", text)\n",
    "    text = text.lower()\n",
    "    return text\n",
    "Reviews_df['Rating'] = Reviews_df['Rating'].apply(clean_text)\n",
    "Reviews_df.Rating = Reviews_df.Rating.astype(float)\n",
    "Reviews_df.Rating = round(Reviews_df.Rating/10,1)\n"
   ]
  },
  {
   "cell_type": "code",
   "execution_count": null,
   "metadata": {},
   "outputs": [],
   "source": [
    "def clean_text2(text):\n",
    "\n",
    "    text = text.lower().strip()\n",
    "    text = re.sub(r\"i'm\", \"i am\", text)\n",
    "    text = re.sub(r\"he's\", \"he is\", text)\n",
    "    text = re.sub(r\"she's\", \"she is\", text)\n",
    "    text = re.sub(r\"that's\", \"that is\", text)\n",
    "    text = re.sub(r\"what's\", \"what is\", text)\n",
    "    text = re.sub(r\"where's\", \"where is\", text)\n",
    "    text = re.sub(r\"how's\", \"how is\", text)\n",
    "    text = re.sub(r\"\\'s\", \" is\", text)\n",
    "    text = re.sub(r\"\\'ll\", \" will\", text)\n",
    "    text = re.sub(r\"\\'ve\", \" have\", text)\n",
    "    text = re.sub(r\"\\'re\", \" are\", text)\n",
    "    text = re.sub(r\"\\'d\", \" would\", text)\n",
    "    text = re.sub(r\"won't\", \"will not\", text)\n",
    "    text = re.sub(r\"can't\", \"cannot\", text)\n",
    "    text = re.sub(r\"n't\", \" not\", text)\n",
    "    text = re.sub(r\"<br>\", \" \", text)\n",
    "    text = re.sub(r\"([-?.!,/\\\"])\", r\" \\1 \", text)\n",
    "    text = re.sub(r\"[-()\\\"#/@;:<>{}`+=~|.!?,'*\\\\]\", \"\", text)\n",
    "    text = re.sub(r\"[ ]+\", \" \", text)\n",
    "    text = text.rstrip().strip()\n",
    "\n",
    "    return text\n",
    "Reviews_df.Review = Reviews_df.Review.apply(clean_text2)"
   ]
  },
  {
   "cell_type": "code",
   "execution_count": 600,
   "metadata": {},
   "outputs": [],
   "source": [
    "#def review_rating(name):\n",
    " #   df = data_new[data_new.Name == name]\n",
    "  #  return df\n",
    "    \n",
    "#review_rating(\"Cafe Coffee Day\")"
   ]
  },
  {
   "cell_type": "code",
   "execution_count": 673,
   "metadata": {},
   "outputs": [
    {
     "data": {
      "text/plain": [
       "'[(\\'Rated 4.0\\', \\'RATED\\\\n  A beautiful place to dine in.The interiors take you back to the Mughal era. The lightings are just perfect.We went there on the occasion of Christmas and so they had only limited items available. But the taste and service was not compromised at all.The only complaint is that the breads could have been better.Would surely like to come here again.\\'), (\\'Rated 4.0\\', \\'RATED\\\\n  I was here for dinner with my family on a weekday. The restaurant was completely empty. Ambience is good with some good old hindi music. Seating arrangement are good too. We ordered masala papad, panner and baby corn starters, lemon and corrionder soup, butter roti, olive and chilli paratha. Food was fresh and good, service is good too. Good for family hangout.\\\\nCheers\\'), (\\'Rated 2.0\\', \\'RATED\\\\n  Its a restaurant near to Banashankari BDA. Me along with few of my office friends visited to have buffet but unfortunately they only provide veg buffet. On inquiring they said this place is mostly visited by vegetarians. Anyways we ordered ala carte items which took ages to come. Food was ok ok. Definitely not visiting anymore.\\'), (\\'Rated 4.0\\', \\'RATED\\\\n  We went here on a weekend and one of us had the buffet while two of us took Ala Carte. Firstly the ambience and service of this place is great! The buffet had a lot of items and the good was good. We had a Pumpkin Halwa intm the dessert which was amazing. Must try! The kulchas are great here. Cheers!\\'), (\\'Rated 5.0\\', \\'RATED\\\\n  The best thing about the place is itÃ\\x83\\\\x83Ã\\x82\\\\x83Ã\\x83\\\\x82Ã\\x82\\\\x82Ã\\x83\\\\x83Ã\\x82\\\\x82Ã\\x83\\\\x82Ã\\x82\\\\x92s ambiance. Second best thing was yummy ? food. We try buffet and buffet food was not disappointed us.\\\\nTest ?. ?? ?? ?? ?? ??\\\\nQuality ?. ??????????.\\\\nService: Staff was very professional and friendly.\\\\n\\\\nOverall experience was excellent.\\\\n\\\\nsubirmajumder85.wixsite.com\\'), (\\'Rated 5.0\\', \\'RATED\\\\n  Great food and pleasant ambience. Expensive but Coll place to chill and relax......\\\\n\\\\nService is really very very good and friendly staff...\\\\n\\\\nFood : 5/5\\\\nService : 5/5\\\\nAmbience :5/5\\\\nOverall :5/5\\'), (\\'Rated 4.0\\', \\'RATED\\\\n  Good ambience with tasty food.\\\\nCheese chilli paratha with Bhutta palak methi curry is a good combo.\\\\nLemon Chicken in the starters is a must try item.\\\\nEgg fried rice was also quite tasty.\\\\nIn the mocktails, recommend \"Alice in Junoon\". Do not miss it.\\'), (\\'Rated 4.0\\', \\'RATED\\\\n  You canÃ\\x83\\\\x83Ã\\x82\\\\x83Ã\\x83\\\\x82Ã\\x82\\\\x82Ã\\x83\\\\x83Ã\\x82\\\\x82Ã\\x83\\\\x82Ã\\x82\\\\x92t go wrong with Jalsa. Never been a fan of their buffet and thus always order alacarteÃ\\x83\\\\x83Ã\\x82\\\\x83Ã\\x83\\\\x82Ã\\x82\\\\x82Ã\\x83\\\\x83Ã\\x82\\\\x82Ã\\x83\\\\x82Ã\\x82\\\\x92. Service at times can be on the slower side but food is worth the wait.\\'), (\\'Rated 5.0\\', \\'RATED\\\\n  Overdelighted by the service and food provided at this place. A royal and ethnic atmosphere builds a strong essence of being in India and also the quality and taste of food is truly authentic. I would totally recommend to visit this place once.\\'), (\\'Rated 4.0\\', \\'RATED\\\\n  The place is nice and comfortable. Food wise all jalea outlets maintain a good standard. The soya chaap was a standout dish. Clearly one of trademark dish as per me and a must try.\\\\n\\\\nThe only concern is the parking. It very congested and limited to just 5cars. The basement parking is very steep and makes it cumbersome\\'), (\\'Rated 4.0\\', \\'RATED\\\\n  The place is nice and comfortable. Food wise all jalea outlets maintain a good standard. The soya chaap was a standout dish. Clearly one of trademark dish as per me and a must try.\\\\n\\\\nThe only concern is the parking. It very congested and limited to just 5cars. The basement parking is very steep and makes it cumbersome\\'), (\\'Rated 4.0\\', \\'RATED\\\\n  The place is nice and comfortable. Food wise all jalea outlets maintain a good standard. The soya chaap was a standout dish. Clearly one of trademark dish as per me and a must try.\\\\n\\\\nThe only concern is the parking. It very congested and limited to just 5cars. The basement parking is very steep and makes it cumbersome\\')]'"
      ]
     },
     "execution_count": 673,
     "metadata": {},
     "output_type": "execute_result"
    }
   ],
   "source": [
    "data_new.Reviews[0]"
   ]
  },
  {
   "cell_type": "code",
   "execution_count": 661,
   "metadata": {
    "scrolled": true
   },
   "outputs": [
    {
     "data": {
      "text/plain": [
       "Name                                          Spice Elephant\n",
       "Reviews    [('Rated 4.0', 'RATED\\n  Had been here for din...\n",
       "Name: 1, dtype: object"
      ]
     },
     "execution_count": 661,
     "metadata": {},
     "output_type": "execute_result"
    }
   ],
   "source": [
    "data_new.iloc[1]"
   ]
  },
  {
   "cell_type": "code",
   "execution_count": 786,
   "metadata": {},
   "outputs": [
    {
     "data": {
      "text/plain": [
       "(44122, 2)"
      ]
     },
     "execution_count": 786,
     "metadata": {},
     "output_type": "execute_result"
    }
   ],
   "source": [
    "#some restaurants don't have any review. it's missing. let's remove them. only then the below fucntion will work\n",
    "data_new = data_new[data_new.Reviews != '[]']\n",
    "data_new.shape"
   ]
  },
  {
   "cell_type": "code",
   "execution_count": 873,
   "metadata": {},
   "outputs": [],
   "source": [
    "a = data_new.iloc[1688,]"
   ]
  },
  {
   "cell_type": "code",
   "execution_count": 861,
   "metadata": {},
   "outputs": [
    {
     "data": {
      "text/plain": [
       "'[(\\'Rated 4.0\\', \\'RATED\\\\n  Its a really good restaurant but cost is on a higher factor. They are good south indian dish maker but have also delivered some very good dishes like Kashmiri Pulav. Self service model is ok and dine in facility is very good. Nice ambience for dine in.\\'), (\\'Rated 2.0\\', \\'RATED\\\\n  Had ordered plain Dosa and coffee. The plain Dosa along with the sambhar and chutneys were salty and oily. The order also took a long time. The coffee had less sugar and was not good. The prices are on the higher side and it seems we are paying for the ambience and not for quality of food.\\\\n\\\\nThe mini meal was good. Quantity was sufficient for 1. It had chappathi, 3 rice OEMs, sweet and fried item like papad\\'), (\\'Rated 5.0\\', \"RATED\\\\n  Love this place for it\\'s South Indian preparations , it\\'s our Sunday morning breakfast destination. Softest idlies , cripy dosas, yummy chutneys , spicy sambar ,also mini tiffin is a complete delight with kesar bath and pongal made in ghee. Each and every preparation is just so perfect which keeps us coming back for more .\"), (\\'Rated 3.0\\', \"RATED\\\\n  Ambiance - 3.5/5\\\\nTaste - 3.5/5\\\\nStaff - 4.5/5\\\\nCost - 3/5\\\\n\\\\nThis place lives up to the A2B name. It\\'s a really nice place, well spaced out (open) and has good ventilation. The staff are really friendly and helpful. The place is very clean and well lit. The food tastes really good, especially the parota, sandwich and the pongal.\\\\nThe only issue, in my opinion, is the value for money. I feel that the food served, for the taste and quantity, isn\\'t worth as much as it is priced at. The portions are quite small.\"), (\\'Rated 5.0\\', \\'RATED\\\\n  We always have delicious and piping hot dishes every time we visit A2B. Fantastic Bisibelabath, Mushroom Rice and A2B Mini Meals and much more recipes that you should definitely give a try. The food quality is good and we guys enjoyed the service\\\\uf04a\\\\n\\\\ngoo.gl\\'), (\\'Rated 3.0\\', \\'RATED\\\\n  Have been regular to this place .Generally find their breakfast item good and tasteful . But over the time their quality & taste seems to be dropping . The Pongal was quite watery & reminded / tasted more of kichidi .\\'), (\\'Rated 3.0\\', \\'RATED\\\\n  This is again a typical A2b experience in terms of south Indian food\\\\nBut North Indian remains elusive in terms of taste and price\\\\nService is one area where this chain has to bring lot of expertise as they should understand that when people pay above average price they have expectations\\'), (\\'Rated 4.0\\', \\'RATED\\\\n  Ordered South Indian Thali and North Indian Thali. Both tasted good..\\\\n\\\\nNorth Indian Thali starts with tomato soup n papad.. Then comes (tandoor Roti with 2 subzi), (veg biryani n Raita), curd rice, salad n 2 small gulab-jamuns. All in all it was a good North Indian Thali at a South Indian restaurant. ??\\\\n\\\\nIn South Indian Thali u get paratha with number of curries.. Once you finish paratha. It is followed by hot steamed rice with ample amount of ghee to it.\\\\n\\\\nBoth the Thali were value for money..\\')]'"
      ]
     },
     "execution_count": 861,
     "metadata": {},
     "output_type": "execute_result"
    }
   ],
   "source": [
    "a['Reviews']"
   ]
  },
  {
   "cell_type": "code",
   "execution_count": 874,
   "metadata": {},
   "outputs": [],
   "source": [
    "a\n",
    "Reviews = a.Reviews.replace(\"RATED\\\\n\", \"\")\n",
    "Reviews = Reviews.replace(\"\\'\", \"\")\n",
    "Reviews = Reviews.strip('[]')\n",
    "Reviews = Reviews.split(\"), (R\")\n",
    "Reviews_df = pd.DataFrame({'Text':Reviews})\n",
    "Reviews_df['Rating'] = Reviews_df.Text.apply(lambda x: x.split(', ')[0])\n",
    "Reviews_df['Review'] = Reviews_df.Text.apply(lambda x: x.split(', ')[1])"
   ]
  },
  {
   "cell_type": "code",
   "execution_count": 876,
   "metadata": {},
   "outputs": [],
   "source": [
    "def clean_text(x):\n",
    "    text = x.replace(\"ated\", \"\")\n",
    "    text = text.replace(\"R\", \"\")\n",
    "    text = re.sub(r\"[-()\\\"#/@;:<>{}`+=~|.!?,']\", \"\", text)\n",
    "    text = text.lower()\n",
    "    return text"
   ]
  },
  {
   "cell_type": "code",
   "execution_count": 877,
   "metadata": {},
   "outputs": [],
   "source": [
    "Reviews_df['Rating'] = Reviews_df['Rating'].apply(clean_text)"
   ]
  },
  {
   "cell_type": "code",
   "execution_count": 879,
   "metadata": {},
   "outputs": [],
   "source": [
    "Reviews_df.Rating = Reviews_df.Rating.astype(float)\n",
    "Reviews_df.Rating = round(Reviews_df.Rating/10,1)"
   ]
  },
  {
   "cell_type": "code",
   "execution_count": 880,
   "metadata": {},
   "outputs": [
    {
     "data": {
      "text/html": [
       "<div>\n",
       "<style scoped>\n",
       "    .dataframe tbody tr th:only-of-type {\n",
       "        vertical-align: middle;\n",
       "    }\n",
       "\n",
       "    .dataframe tbody tr th {\n",
       "        vertical-align: top;\n",
       "    }\n",
       "\n",
       "    .dataframe thead th {\n",
       "        text-align: right;\n",
       "    }\n",
       "</style>\n",
       "<table border=\"1\" class=\"dataframe\">\n",
       "  <thead>\n",
       "    <tr style=\"text-align: right;\">\n",
       "      <th></th>\n",
       "      <th>Text</th>\n",
       "      <th>Rating</th>\n",
       "      <th>Review</th>\n",
       "    </tr>\n",
       "  </thead>\n",
       "  <tbody>\n",
       "    <tr>\n",
       "      <th>0</th>\n",
       "      <td>(Rated 4.0,   Its a really good restaurant but...</td>\n",
       "      <td>4.0</td>\n",
       "      <td>Its a really good restaurant but cost is on ...</td>\n",
       "    </tr>\n",
       "    <tr>\n",
       "      <th>1</th>\n",
       "      <td>ated 2.0,   Had ordered plain Dosa and coffee....</td>\n",
       "      <td>2.0</td>\n",
       "      <td>Had ordered plain Dosa and coffee. The plain...</td>\n",
       "    </tr>\n",
       "    <tr>\n",
       "      <th>2</th>\n",
       "      <td>ated 5.0, \"  Love this place for its South Ind...</td>\n",
       "      <td>5.0</td>\n",
       "      <td>\"  Love this place for its South Indian prepar...</td>\n",
       "    </tr>\n",
       "    <tr>\n",
       "      <th>3</th>\n",
       "      <td>ated 3.0, \"  Ambiance - 3.5/5\\nTaste - 3.5/5\\n...</td>\n",
       "      <td>3.0</td>\n",
       "      <td>\"  Ambiance - 3.5/5\\nTaste - 3.5/5\\nStaff - 4....</td>\n",
       "    </tr>\n",
       "    <tr>\n",
       "      <th>4</th>\n",
       "      <td>ated 5.0,   We always have delicious and pipin...</td>\n",
       "      <td>5.0</td>\n",
       "      <td>We always have delicious and piping hot dish...</td>\n",
       "    </tr>\n",
       "    <tr>\n",
       "      <th>5</th>\n",
       "      <td>ated 3.0,   Have been regular to this place .G...</td>\n",
       "      <td>3.0</td>\n",
       "      <td>Have been regular to this place .Generally f...</td>\n",
       "    </tr>\n",
       "    <tr>\n",
       "      <th>6</th>\n",
       "      <td>ated 3.0,   This is again a typical A2b experi...</td>\n",
       "      <td>3.0</td>\n",
       "      <td>This is again a typical A2b experience in te...</td>\n",
       "    </tr>\n",
       "    <tr>\n",
       "      <th>7</th>\n",
       "      <td>ated 4.0,   Ordered South Indian Thali and Nor...</td>\n",
       "      <td>4.0</td>\n",
       "      <td>Ordered South Indian Thali and North Indian ...</td>\n",
       "    </tr>\n",
       "  </tbody>\n",
       "</table>\n",
       "</div>"
      ],
      "text/plain": [
       "                                                Text  Rating  \\\n",
       "0  (Rated 4.0,   Its a really good restaurant but...     4.0   \n",
       "1  ated 2.0,   Had ordered plain Dosa and coffee....     2.0   \n",
       "2  ated 5.0, \"  Love this place for its South Ind...     5.0   \n",
       "3  ated 3.0, \"  Ambiance - 3.5/5\\nTaste - 3.5/5\\n...     3.0   \n",
       "4  ated 5.0,   We always have delicious and pipin...     5.0   \n",
       "5  ated 3.0,   Have been regular to this place .G...     3.0   \n",
       "6  ated 3.0,   This is again a typical A2b experi...     3.0   \n",
       "7  ated 4.0,   Ordered South Indian Thali and Nor...     4.0   \n",
       "\n",
       "                                              Review  \n",
       "0    Its a really good restaurant but cost is on ...  \n",
       "1    Had ordered plain Dosa and coffee. The plain...  \n",
       "2  \"  Love this place for its South Indian prepar...  \n",
       "3  \"  Ambiance - 3.5/5\\nTaste - 3.5/5\\nStaff - 4....  \n",
       "4    We always have delicious and piping hot dish...  \n",
       "5    Have been regular to this place .Generally f...  \n",
       "6    This is again a typical A2b experience in te...  \n",
       "7    Ordered South Indian Thali and North Indian ...  "
      ]
     },
     "execution_count": 880,
     "metadata": {},
     "output_type": "execute_result"
    }
   ],
   "source": [
    "Reviews_df"
   ]
  },
  {
   "cell_type": "code",
   "execution_count": 883,
   "metadata": {},
   "outputs": [],
   "source": [
    "def custom_function(value):\n",
    "    df = data_new.iloc[value]\n",
    "    name = df.Name\n",
    "    Reviews = df.Reviews.replace(\"RATED\\\\n\", \"\")\n",
    "    Reviews = Reviews.replace(\"\\'\", \"\")\n",
    "    Reviews = Reviews.strip('[]')\n",
    "    Reviews = Reviews.split(\"), (R\")\n",
    "    Reviews_df = pd.DataFrame({'Text':Reviews})\n",
    "    Reviews_df['Rating'] = Reviews_df.Text.apply(lambda x: x.split(', ')[0])\n",
    "    Reviews_df['Review'] = Reviews_df.Text.apply(lambda x: x.split(', ')[1])\n",
    "    \n",
    "    def clean_text(x):\n",
    "        text = x.replace(\"ated\", \"\")\n",
    "        text = text.replace(\"R\", \"\")\n",
    "        text = re.sub(r\"[-()\\\"#/@;:<>{}`+=~|.!?,']\", \"\", text)\n",
    "        text = text.lower()\n",
    "        return text\n",
    "    Reviews_df['Rating'] = Reviews_df['Rating'].apply(clean_text)\n",
    "    Reviews_df.Rating = Reviews_df.Rating.astype(float)\n",
    "    Reviews_df.Rating = round(Reviews_df.Rating/10,1)\n",
    "        \n",
    "    def clean_text2(text):\n",
    "        text = text.lower().strip()\n",
    "        text = re.sub(r\"i'm\", \"i am\", text)\n",
    "        text = re.sub(r\"he's\", \"he is\", text)\n",
    "        text = re.sub(r\"she's\", \"she is\", text)\n",
    "        text = re.sub(r\"that's\", \"that is\", text)\n",
    "        text = re.sub(r\"what's\", \"what is\", text)\n",
    "        text = re.sub(r\"where's\", \"where is\", text)\n",
    "        text = re.sub(r\"how's\", \"how is\", text)\n",
    "        text = re.sub(r\"\\'s\", \" is\", text)\n",
    "        text = re.sub(r\"\\'ll\", \" will\", text)\n",
    "        text = re.sub(r\"\\'ve\", \" have\", text)\n",
    "        text = re.sub(r\"\\'re\", \" are\", text)\n",
    "        text = re.sub(r\"\\'d\", \" would\", text)\n",
    "        text = re.sub(r\"won't\", \"will not\", text)\n",
    "        text = re.sub(r\"can't\", \"cannot\", text)\n",
    "        text = re.sub(r\"n't\", \" not\", text)\n",
    "        #text = re.sub(r\"Rated)\n",
    "        text = re.sub(r\"<br>\", \" \", text)\n",
    "        text = re.sub(r\"([-?.!,/\\\"])\", r\" \\1 \", text)\n",
    "        text = re.sub(r\"[-()\\\"#/@;:<>{}`+=~|.!?,'*\\\\]\", \"\", text)\n",
    "        text = re.sub(r\"[ ]+\", \" \", text)\n",
    "        text = text.rstrip().strip()\n",
    "        return text\n",
    "      \n",
    "    Reviews_df.Review = Reviews_df.Review.apply(clean_text2)\n",
    "    #print(\"Name of the restaurant is :\", name)\n",
    "    #print(\"Number of rows in the Dataframe :\", Reviews_df.shape[0])\n",
    "    #return len(Reviews_df)\n",
    "    return Reviews_df.shape[0]"
   ]
  },
  {
   "cell_type": "code",
   "execution_count": 884,
   "metadata": {
    "scrolled": true
   },
   "outputs": [
    {
     "data": {
      "text/plain": [
       "8"
      ]
     },
     "execution_count": 884,
     "metadata": {},
     "output_type": "execute_result"
    }
   ],
   "source": [
    "custom_function(1688) #put any value between 0 and len(data) and the corresponding restaurant with its reviews and \n",
    "                    #customer ratings will appear"
   ]
  },
  {
   "cell_type": "code",
   "execution_count": 734,
   "metadata": {},
   "outputs": [
    {
     "data": {
      "text/plain": [
       "51717"
      ]
     },
     "execution_count": 734,
     "metadata": {},
     "output_type": "execute_result"
    }
   ],
   "source": [
    "len(data_new)"
   ]
  },
  {
   "cell_type": "code",
   "execution_count": 887,
   "metadata": {},
   "outputs": [],
   "source": [
    "x = [custom_function(i) for i in range(0, len(data_new))]"
   ]
  },
  {
   "cell_type": "code",
   "execution_count": 899,
   "metadata": {},
   "outputs": [],
   "source": [
    "values_df = pd.DataFrame({'Values':x})"
   ]
  },
  {
   "cell_type": "code",
   "execution_count": 911,
   "metadata": {},
   "outputs": [
    {
     "data": {
      "text/html": [
       "<div>\n",
       "<style scoped>\n",
       "    .dataframe tbody tr th:only-of-type {\n",
       "        vertical-align: middle;\n",
       "    }\n",
       "\n",
       "    .dataframe tbody tr th {\n",
       "        vertical-align: top;\n",
       "    }\n",
       "\n",
       "    .dataframe thead th {\n",
       "        text-align: right;\n",
       "    }\n",
       "</style>\n",
       "<table border=\"1\" class=\"dataframe\">\n",
       "  <thead>\n",
       "    <tr style=\"text-align: right;\">\n",
       "      <th></th>\n",
       "      <th>Values</th>\n",
       "    </tr>\n",
       "  </thead>\n",
       "  <tbody>\n",
       "    <tr>\n",
       "      <th>44112</th>\n",
       "      <td>1099</td>\n",
       "    </tr>\n",
       "    <tr>\n",
       "      <th>44113</th>\n",
       "      <td>1102</td>\n",
       "    </tr>\n",
       "    <tr>\n",
       "      <th>44114</th>\n",
       "      <td>1181</td>\n",
       "    </tr>\n",
       "    <tr>\n",
       "      <th>44115</th>\n",
       "      <td>1214</td>\n",
       "    </tr>\n",
       "    <tr>\n",
       "      <th>44116</th>\n",
       "      <td>1265</td>\n",
       "    </tr>\n",
       "    <tr>\n",
       "      <th>44117</th>\n",
       "      <td>1285</td>\n",
       "    </tr>\n",
       "    <tr>\n",
       "      <th>44118</th>\n",
       "      <td>1485</td>\n",
       "    </tr>\n",
       "    <tr>\n",
       "      <th>44119</th>\n",
       "      <td>1515</td>\n",
       "    </tr>\n",
       "    <tr>\n",
       "      <th>44120</th>\n",
       "      <td>1742</td>\n",
       "    </tr>\n",
       "    <tr>\n",
       "      <th>44121</th>\n",
       "      <td>1769</td>\n",
       "    </tr>\n",
       "  </tbody>\n",
       "</table>\n",
       "</div>"
      ],
      "text/plain": [
       "       Values\n",
       "44112    1099\n",
       "44113    1102\n",
       "44114    1181\n",
       "44115    1214\n",
       "44116    1265\n",
       "44117    1285\n",
       "44118    1485\n",
       "44119    1515\n",
       "44120    1742\n",
       "44121    1769"
      ]
     },
     "execution_count": 911,
     "metadata": {},
     "output_type": "execute_result"
    }
   ],
   "source": [
    "values_df.tail(10) # with 1099 reviews we can still go on and use textblob to classify them as pos neg and neutral\n",
    "#and then train using Multinomial Naive Bayes"
   ]
  }
 ],
 "metadata": {
  "kernelspec": {
   "display_name": "Python 3",
   "language": "python",
   "name": "python3"
  },
  "language_info": {
   "codemirror_mode": {
    "name": "ipython",
    "version": 3
   },
   "file_extension": ".py",
   "mimetype": "text/x-python",
   "name": "python",
   "nbconvert_exporter": "python",
   "pygments_lexer": "ipython3",
   "version": "3.7.3"
  }
 },
 "nbformat": 4,
 "nbformat_minor": 2
}
